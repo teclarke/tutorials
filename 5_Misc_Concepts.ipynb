{
  "nbformat": 4,
  "nbformat_minor": 0,
  "metadata": {
    "colab": {
      "name": "5 Misc Concepts",
      "provenance": [],
      "collapsed_sections": [],
      "toc_visible": true,
      "include_colab_link": true
    },
    "kernelspec": {
      "display_name": "Python 3",
      "name": "python3"
    }
  },
  "cells": [
    {
      "cell_type": "markdown",
      "metadata": {
        "id": "view-in-github",
        "colab_type": "text"
      },
      "source": [
        "<a href=\"https://colab.research.google.com/github/teclarke/tutorials/blob/master/5_Misc_Concepts.ipynb\" target=\"_parent\"><img src=\"https://colab.research.google.com/assets/colab-badge.svg\" alt=\"Open In Colab\"/></a>"
      ]
    },
    {
      "cell_type": "markdown",
      "metadata": {
        "id": "eP-gV6rFHFQC",
        "colab_type": "text"
      },
      "source": [
        "# Misc Concepts"
      ]
    },
    {
      "cell_type": "markdown",
      "metadata": {
        "id": "YNuQ923tzR3L",
        "colab_type": "text"
      },
      "source": [
        "In this section we will cover smaller concepts you should know for the NEA. These are :\n",
        "\n",
        "* Reading and writing from / to a text file\n",
        "* Using standard libraries\n",
        "* How to draw a flow diagram\n",
        "\n",
        "## 1. Reading and Writing\n",
        "There are **MANY** cases where we want to ensure our results are stored after we calculate them.\n",
        "\n",
        " There are also cases where we might have a long list of inputs we do not want to tediously type out manually. In these cases we need to understand Input/Output, also known as **IO**.\n",
        "\n",
        "In Python there are several libraries which can be used for this, but we will limit ourselves to the simplest approach - Using ```open```.\n",
        "### Reading from a file\n",
        "Let's look at a common example. We have a list of names: ```fake_names.csv```.\n",
        "\n"
      ]
    },
    {
      "cell_type": "code",
      "metadata": {
        "id": "ct584HH8z7bZ",
        "colab_type": "code",
        "outputId": "cee09512-871e-4dc2-f00e-8151c75708f3",
        "colab": {
          "base_uri": "https://localhost:8080/",
          "height": 1000
        }
      },
      "source": [
        "filename = \"fake_names.csv\"\n",
        "newline = \"\\n\"\n",
        "\n",
        "names = []\n",
        "with open(filename, 'r') as f:\n",
        "    for row in f:\n",
        "        row = row.strip(newline)\n",
        "        names.append(row)\n",
        "\n",
        "for name in names:\n",
        "    print(name)"
      ],
      "execution_count": 0,
      "outputs": [
        {
          "output_type": "stream",
          "text": [
            "Clerkclaude,Yankin\n",
            "Kristofer,Prosh\n",
            "Guglielma,Niemetz\n",
            "Kevyn,Beveredge\n",
            "Pip,Weild\n",
            "Karina,Machan\n",
            "Reggi,Littler\n",
            "Leonerd,Eagling\n",
            "Arel,Batcheldor\n",
            "Arabel,Seiffert\n",
            "Abner,Agass\n",
            "Erda,Chappell\n",
            "Stephannie,Maskill\n",
            "Dud,Obee\n",
            "Abbey,Huddles\n",
            "Scarlet,Burchatt\n",
            "Harris,Langhorn\n",
            "Arly,Pitrelli\n",
            "Tabina,Hendricks\n",
            "Carmelita,Elliston\n",
            "Raymund,Synder\n",
            "Gussi,Brader\n",
            "Harbert,Burnand\n",
            "Jim,Bryning\n",
            "Lonnie,Bellamy\n",
            "Brockie,Forsaith\n",
            "Jdavie,Pavlata\n",
            "Hana,Sargood\n",
            "Diandra,Spinelli\n",
            "Terza,Laterza\n",
            "Teodoor,Edie\n",
            "Moses,Barnsdall\n",
            "Ardelle,Wilsher\n",
            "Maighdiln,Shuxsmith\n",
            "Wallis,Blakiston\n",
            "Meggy,De Brett\n",
            "Yehudit,Jablonski\n",
            "Marya,Perillo\n",
            "Berne,Flooks\n",
            "Kalle,Yancey\n",
            "Lillis,Gavozzi\n",
            "Angeline,Spear\n",
            "Bennie,Sara\n",
            "Dina,Van Der Weedenburg\n",
            "Elna,Andries\n",
            "Coretta,Bickerstaff\n",
            "Elnar,Breffitt\n",
            "Ertha,Acreman\n",
            "Amabelle,Rodmell\n",
            "Charlton,Eastmond\n",
            "Kitti,Shyram\n",
            "Timmie,Willoughby\n",
            "Anton,Newberry\n",
            "Elsinore,Turnock\n",
            "Lois,Merryman\n",
            "Cazzie,Dursley\n",
            "Pernell,Fritz\n",
            "Silvia,Mattaus\n",
            "Madelaine,Colbert\n",
            "Raf,Garralts\n",
            "Phillie,Meran\n",
            "Virgil,Cockerill\n",
            "Jacobo,Fosken\n",
            "Aggi,Toombes\n",
            "Faun,Sirl\n",
            "Tracey,Demke\n",
            "Ashlan,Prosek\n",
            "Garold,Kaas\n",
            "Allianora,Loyndon\n",
            "Brandyn,Nazer\n",
            "Basilius,Caldero\n",
            "Glennis,Plumridege\n",
            "Sonnie,Rentoll\n",
            "Faunie,Keedwell\n",
            "Anastasie,Surguine\n",
            "Wilburt,Heathorn\n",
            "Louisa,Drover\n",
            "Madelle,Godby\n",
            "Constantine,Haggerwood\n",
            "Barny,Bridgstock\n",
            "Lorraine,Mintoft\n",
            "Katti,Croyden\n",
            "Freddi,Cowpland\n",
            "Alyss,Bellin\n",
            "Ferdinanda,Spelman\n",
            "Tildi,Cozins\n",
            "Lora,Stairmond\n",
            "Amelie,De Carolis\n",
            "Delainey,Chess\n",
            "Madelena,Brasted\n",
            "Anetta,Kyngdon\n",
            "Desdemona,Plan\n",
            "Hermy,Benois\n",
            "Anjela,Kauscher\n",
            "Robbyn,Bartalucci\n",
            "Renell,Bruhke\n",
            "Adelina,Vian\n",
            "Janean,Van Bruggen\n",
            "Dani,Burwin\n",
            "Royall,Moakler\n"
          ],
          "name": "stdout"
        }
      ]
    },
    {
      "cell_type": "markdown",
      "metadata": {
        "id": "9mgoPwJC3OHf",
        "colab_type": "text"
      },
      "source": [
        "It is essential you save your code in the same directory as the CSV file. Things to avoid doing :\n",
        "\n",
        "* Do not open the file in MS Excel and then save it. This code can only understand plaintext files NOT MS Excel files.\n",
        "* Make sure the PY and CSV files are the same folder. Preferably alone. If not you will get an error!\n",
        "Let us look at the key points of the above code :\n",
        "\n",
        "  ``` open(filename, 'r')```\n",
        "   - this tells the computer to open the filename with the property ```'r' ``` which is read!\n",
        "\n",
        "  ``` for row in f ```\n",
        "  - this will iterate over the CSV file line by line\n",
        "\n",
        "  ```row = row.strip('\\n')```\n",
        "  - this will remove the end line character from our text otherwise it will continue to be a plague on our ability to get things done!"
      ]
    },
    {
      "cell_type": "markdown",
      "metadata": {
        "id": "2i2ufEUH3nh5",
        "colab_type": "text"
      },
      "source": [
        "## Writing to a file\n"
      ]
    },
    {
      "cell_type": "code",
      "metadata": {
        "id": "hRkN2YUf3sku",
        "colab_type": "code",
        "outputId": "2a53ab6f-0b69-47e7-cc6f-b86a844b25b4",
        "colab": {
          "base_uri": "https://localhost:8080/",
          "height": 102
        }
      },
      "source": [
        "names = []\n",
        "\n",
        "ask_for = 5  # ask for this number of names\n",
        "\n",
        "while len(names) < ask_for:\n",
        "    new_name = input(\"enter a name >>\")\n",
        "    names.append(new_name)\n",
        "\n",
        "with open('names.txt', 'w') as f:\n",
        "    for name in names:\n",
        "        print(name, file=f)"
      ],
      "execution_count": 0,
      "outputs": [
        {
          "output_type": "stream",
          "text": [
            "enter a name >>tom clarke\n",
            "enter a name >>tom clarke\n",
            "enter a name >>tom clarke\n",
            "enter a name >>tom clarke\n",
            "enter a name >>tom clarke\n"
          ],
          "name": "stdout"
        }
      ]
    },
    {
      "cell_type": "markdown",
      "metadata": {
        "id": "ttE5IjZV3489",
        "colab_type": "text"
      },
      "source": [
        "1. ```'w'``` as an option tells the computer to override the file. There are two other options.\n",
        "\n",
        "2. ```'a'``` will append to an existing file. \n",
        "3. ```'x'``` will create a new file. Crucially it will cause a crash if you try to overwrite an existing file BUT ```'w'``` will not.\n",
        "\n",
        "4. ```print(..., file=f)``` will ```'output'``` whatever you print to the file ```'f'``` instead of the screen."
      ]
    },
    {
      "cell_type": "markdown",
      "metadata": {
        "id": "v_BSYPx64YRS",
        "colab_type": "text"
      },
      "source": [
        "##2.  Using Standard Libraries\n",
        "A standard library is a collection of functions and variables that come with every Python installation as standard. The full list can be seen [docs.python.org/3/library/index.html](https://docs.python.org/3/library/index.html)\n",
        "\n",
        "### In this list the following libraries are of especial note :\n",
        "\n",
        "* ```random``` : How to make random numbers, choose random elements and shuffle lists\n",
        "* ```statistics```: Common operations in statistics like mean, median and mode.\n",
        "* ```math``` : Common mathematical operations like trigonometry. Also contains pi.\n",
        "* ```itertools``` : Iteration tools useful for producing patterns from lists like combinations and permutations. Surprisingly useful!\n",
        "\n",
        "\n",
        "There are many more libraries on the site and I would recommend asking yourself before wondering how to do a task, whether Python can do that task for you. \n",
        "**Remember - In your NEA you can only use code you have wrote yourself unless it is a standard library function.  I will know if you cheat.**"
      ]
    },
    {
      "cell_type": "code",
      "metadata": {
        "id": "v5bMK9jF460h",
        "colab_type": "code",
        "outputId": "8b4c245e-9557-47b6-fd76-1b78d33e0b4d",
        "colab": {
          "base_uri": "https://localhost:8080/",
          "height": 34
        }
      },
      "source": [
        "import random\n",
        "print(random.random())"
      ],
      "execution_count": 0,
      "outputs": [
        {
          "output_type": "stream",
          "text": [
            "0.8814151878737169\n"
          ],
          "name": "stdout"
        }
      ]
    },
    {
      "cell_type": "code",
      "metadata": {
        "id": "k6ii_lZx48dJ",
        "colab_type": "code",
        "outputId": "85fbd23a-30e3-4932-bcc0-f307b38d7457",
        "colab": {
          "base_uri": "https://localhost:8080/",
          "height": 34
        }
      },
      "source": [
        "from os import getcwd\n",
        "print(getcwd())"
      ],
      "execution_count": 0,
      "outputs": [
        {
          "output_type": "stream",
          "text": [
            "/content\n"
          ],
          "name": "stdout"
        }
      ]
    },
    {
      "cell_type": "markdown",
      "metadata": {
        "id": "0hcZf2kr5ADP",
        "colab_type": "text"
      },
      "source": [
        "## Exercises\n",
        "### Basic Login System\n",
        "\n",
        "Write two ```functions add_user()``` and ```login()```.\n",
        "\n",
        "The ```add_user()``` function should :\n",
        "\n",
        "* Ask the user for their username and password\n",
        "  - The password should be >= 8 characters long.\n",
        "* Ask the user to enter the password a second time to confirm.\n",
        "* If it is incorrect, ask again. \n",
        "* If it is correct append to a text file called ```users.txt``` in the format ```USERNAME, PASSWORD``` per line.\n",
        "\n",
        "The ```login()``` function should :\n",
        "\n",
        "* Load the ```users.txt``` file.\n",
        "  - Ensure there is at least one user and password in the file.\n",
        "* Ask the user for their username and password. \n",
        "  - Ensure both are correct as stated in the text file.\n",
        "  - If so return otherwise trap the use in an infinite loop until they enter valid details.\n"
      ]
    },
    {
      "cell_type": "code",
      "metadata": {
        "id": "LS7B2_H25yGl",
        "colab_type": "code",
        "outputId": "f5bfefa0-47d3-43ad-aea7-4b2c85a83405",
        "colab": {
          "base_uri": "https://localhost:8080/",
          "height": 544
        }
      },
      "source": [
        "from getpass import getpass\n",
        "\n",
        "def add_user(users_file):\n",
        "\n",
        "  valid_username = False\n",
        "  while not valid_username:\n",
        "    username = input(\"Please enter a username. >\")\n",
        "    with open(users_file, \"r\") as f:\n",
        "      for line in f:\n",
        "        l = line.split(\",\")\n",
        "        if username == l[0]:\n",
        "          print(\"User with this username already exists.\")\n",
        "        else:\n",
        "          print(\"Adding user\", username)\n",
        "          valid_username = True\n",
        "          \n",
        "  password = \"\"\n",
        "  conf = \"000\"\n",
        "  while len(password) < 8 and password != conf: \n",
        "    password = getpass(\"Please enter a password. >\")\n",
        "    if len(password) < 8:\n",
        "      print(\"The password is too short.\")\n",
        "    else:\n",
        "      conf = getpass(\"Please confirm your password. >\")\n",
        "\n",
        "  \n",
        "add_user(\"users.txt\")"
      ],
      "execution_count": 1,
      "outputs": [
        {
          "output_type": "stream",
          "text": [
            "User with this name already exists.\n"
          ],
          "name": "stdout"
        },
        {
          "output_type": "error",
          "ename": "KeyboardInterrupt",
          "evalue": "ignored",
          "traceback": [
            "\u001b[0;31m---------------------------------------------------------------------------\u001b[0m",
            "\u001b[0;31mKeyboardInterrupt\u001b[0m                         Traceback (most recent call last)",
            "\u001b[0;32m/usr/local/lib/python3.6/dist-packages/ipykernel/kernelbase.py\u001b[0m in \u001b[0;36m_input_request\u001b[0;34m(self, prompt, ident, parent, password)\u001b[0m\n\u001b[1;32m    729\u001b[0m             \u001b[0;32mtry\u001b[0m\u001b[0;34m:\u001b[0m\u001b[0;34m\u001b[0m\u001b[0;34m\u001b[0m\u001b[0m\n\u001b[0;32m--> 730\u001b[0;31m                 \u001b[0mident\u001b[0m\u001b[0;34m,\u001b[0m \u001b[0mreply\u001b[0m \u001b[0;34m=\u001b[0m \u001b[0mself\u001b[0m\u001b[0;34m.\u001b[0m\u001b[0msession\u001b[0m\u001b[0;34m.\u001b[0m\u001b[0mrecv\u001b[0m\u001b[0;34m(\u001b[0m\u001b[0mself\u001b[0m\u001b[0;34m.\u001b[0m\u001b[0mstdin_socket\u001b[0m\u001b[0;34m,\u001b[0m \u001b[0;36m0\u001b[0m\u001b[0;34m)\u001b[0m\u001b[0;34m\u001b[0m\u001b[0;34m\u001b[0m\u001b[0m\n\u001b[0m\u001b[1;32m    731\u001b[0m             \u001b[0;32mexcept\u001b[0m \u001b[0mException\u001b[0m\u001b[0;34m:\u001b[0m\u001b[0;34m\u001b[0m\u001b[0;34m\u001b[0m\u001b[0m\n",
            "\u001b[0;32m/usr/local/lib/python3.6/dist-packages/jupyter_client/session.py\u001b[0m in \u001b[0;36mrecv\u001b[0;34m(self, socket, mode, content, copy)\u001b[0m\n\u001b[1;32m    802\u001b[0m         \u001b[0;32mtry\u001b[0m\u001b[0;34m:\u001b[0m\u001b[0;34m\u001b[0m\u001b[0;34m\u001b[0m\u001b[0m\n\u001b[0;32m--> 803\u001b[0;31m             \u001b[0mmsg_list\u001b[0m \u001b[0;34m=\u001b[0m \u001b[0msocket\u001b[0m\u001b[0;34m.\u001b[0m\u001b[0mrecv_multipart\u001b[0m\u001b[0;34m(\u001b[0m\u001b[0mmode\u001b[0m\u001b[0;34m,\u001b[0m \u001b[0mcopy\u001b[0m\u001b[0;34m=\u001b[0m\u001b[0mcopy\u001b[0m\u001b[0;34m)\u001b[0m\u001b[0;34m\u001b[0m\u001b[0;34m\u001b[0m\u001b[0m\n\u001b[0m\u001b[1;32m    804\u001b[0m         \u001b[0;32mexcept\u001b[0m \u001b[0mzmq\u001b[0m\u001b[0;34m.\u001b[0m\u001b[0mZMQError\u001b[0m \u001b[0;32mas\u001b[0m \u001b[0me\u001b[0m\u001b[0;34m:\u001b[0m\u001b[0;34m\u001b[0m\u001b[0;34m\u001b[0m\u001b[0m\n",
            "\u001b[0;32m/usr/local/lib/python3.6/dist-packages/zmq/sugar/socket.py\u001b[0m in \u001b[0;36mrecv_multipart\u001b[0;34m(self, flags, copy, track)\u001b[0m\n\u001b[1;32m    465\u001b[0m         \"\"\"\n\u001b[0;32m--> 466\u001b[0;31m         \u001b[0mparts\u001b[0m \u001b[0;34m=\u001b[0m \u001b[0;34m[\u001b[0m\u001b[0mself\u001b[0m\u001b[0;34m.\u001b[0m\u001b[0mrecv\u001b[0m\u001b[0;34m(\u001b[0m\u001b[0mflags\u001b[0m\u001b[0;34m,\u001b[0m \u001b[0mcopy\u001b[0m\u001b[0;34m=\u001b[0m\u001b[0mcopy\u001b[0m\u001b[0;34m,\u001b[0m \u001b[0mtrack\u001b[0m\u001b[0;34m=\u001b[0m\u001b[0mtrack\u001b[0m\u001b[0;34m)\u001b[0m\u001b[0;34m]\u001b[0m\u001b[0;34m\u001b[0m\u001b[0;34m\u001b[0m\u001b[0m\n\u001b[0m\u001b[1;32m    467\u001b[0m         \u001b[0;31m# have first part already, only loop while more to receive\u001b[0m\u001b[0;34m\u001b[0m\u001b[0;34m\u001b[0m\u001b[0;34m\u001b[0m\u001b[0m\n",
            "\u001b[0;32mzmq/backend/cython/socket.pyx\u001b[0m in \u001b[0;36mzmq.backend.cython.socket.Socket.recv\u001b[0;34m()\u001b[0m\n",
            "\u001b[0;32mzmq/backend/cython/socket.pyx\u001b[0m in \u001b[0;36mzmq.backend.cython.socket.Socket.recv\u001b[0;34m()\u001b[0m\n",
            "\u001b[0;32mzmq/backend/cython/socket.pyx\u001b[0m in \u001b[0;36mzmq.backend.cython.socket._recv_copy\u001b[0;34m()\u001b[0m\n",
            "\u001b[0;32m/usr/local/lib/python3.6/dist-packages/zmq/backend/cython/checkrc.pxd\u001b[0m in \u001b[0;36mzmq.backend.cython.checkrc._check_rc\u001b[0;34m()\u001b[0m\n",
            "\u001b[0;31mKeyboardInterrupt\u001b[0m: ",
            "\nDuring handling of the above exception, another exception occurred:\n",
            "\u001b[0;31mKeyboardInterrupt\u001b[0m                         Traceback (most recent call last)",
            "\u001b[0;32m<ipython-input-1-ff01d4a0792f>\u001b[0m in \u001b[0;36m<module>\u001b[0;34m()\u001b[0m\n\u001b[1;32m     32\u001b[0m \u001b[0;31m# def login(usr, pass, file):\u001b[0m\u001b[0;34m\u001b[0m\u001b[0;34m\u001b[0m\u001b[0;34m\u001b[0m\u001b[0m\n\u001b[1;32m     33\u001b[0m \u001b[0;34m\u001b[0m\u001b[0m\n\u001b[0;32m---> 34\u001b[0;31m \u001b[0madd_user\u001b[0m\u001b[0;34m(\u001b[0m\u001b[0;34m\"users.txt\"\u001b[0m\u001b[0;34m)\u001b[0m\u001b[0;34m\u001b[0m\u001b[0;34m\u001b[0m\u001b[0m\n\u001b[0m",
            "\u001b[0;32m<ipython-input-1-ff01d4a0792f>\u001b[0m in \u001b[0;36madd_user\u001b[0;34m(users_file)\u001b[0m\n\u001b[1;32m     10\u001b[0m   \u001b[0mvalid_username\u001b[0m \u001b[0;34m=\u001b[0m \u001b[0;32mFalse\u001b[0m\u001b[0;34m\u001b[0m\u001b[0;34m\u001b[0m\u001b[0m\n\u001b[1;32m     11\u001b[0m   \u001b[0;32mwhile\u001b[0m \u001b[0;32mnot\u001b[0m \u001b[0mvalid_username\u001b[0m\u001b[0;34m:\u001b[0m\u001b[0;34m\u001b[0m\u001b[0;34m\u001b[0m\u001b[0m\n\u001b[0;32m---> 12\u001b[0;31m     \u001b[0musername\u001b[0m \u001b[0;34m=\u001b[0m \u001b[0minput\u001b[0m\u001b[0;34m(\u001b[0m\u001b[0;34m\"Please enter a username. >\"\u001b[0m\u001b[0;34m)\u001b[0m\u001b[0;34m\u001b[0m\u001b[0;34m\u001b[0m\u001b[0m\n\u001b[0m\u001b[1;32m     13\u001b[0m     \u001b[0;32mwith\u001b[0m \u001b[0mopen\u001b[0m\u001b[0;34m(\u001b[0m\u001b[0musers_file\u001b[0m\u001b[0;34m,\u001b[0m\u001b[0;34m\"r\"\u001b[0m\u001b[0;34m)\u001b[0m \u001b[0;32mas\u001b[0m \u001b[0mf\u001b[0m\u001b[0;34m:\u001b[0m\u001b[0;34m\u001b[0m\u001b[0;34m\u001b[0m\u001b[0m\n\u001b[1;32m     14\u001b[0m       \u001b[0;32mfor\u001b[0m \u001b[0mline\u001b[0m \u001b[0;32min\u001b[0m \u001b[0mf\u001b[0m\u001b[0;34m:\u001b[0m\u001b[0;34m\u001b[0m\u001b[0;34m\u001b[0m\u001b[0m\n",
            "\u001b[0;32m/usr/local/lib/python3.6/dist-packages/ipykernel/kernelbase.py\u001b[0m in \u001b[0;36mraw_input\u001b[0;34m(self, prompt)\u001b[0m\n\u001b[1;32m    703\u001b[0m             \u001b[0mself\u001b[0m\u001b[0;34m.\u001b[0m\u001b[0m_parent_ident\u001b[0m\u001b[0;34m,\u001b[0m\u001b[0;34m\u001b[0m\u001b[0;34m\u001b[0m\u001b[0m\n\u001b[1;32m    704\u001b[0m             \u001b[0mself\u001b[0m\u001b[0;34m.\u001b[0m\u001b[0m_parent_header\u001b[0m\u001b[0;34m,\u001b[0m\u001b[0;34m\u001b[0m\u001b[0;34m\u001b[0m\u001b[0m\n\u001b[0;32m--> 705\u001b[0;31m             \u001b[0mpassword\u001b[0m\u001b[0;34m=\u001b[0m\u001b[0;32mFalse\u001b[0m\u001b[0;34m,\u001b[0m\u001b[0;34m\u001b[0m\u001b[0;34m\u001b[0m\u001b[0m\n\u001b[0m\u001b[1;32m    706\u001b[0m         )\n\u001b[1;32m    707\u001b[0m \u001b[0;34m\u001b[0m\u001b[0m\n",
            "\u001b[0;32m/usr/local/lib/python3.6/dist-packages/ipykernel/kernelbase.py\u001b[0m in \u001b[0;36m_input_request\u001b[0;34m(self, prompt, ident, parent, password)\u001b[0m\n\u001b[1;32m    733\u001b[0m             \u001b[0;32mexcept\u001b[0m \u001b[0mKeyboardInterrupt\u001b[0m\u001b[0;34m:\u001b[0m\u001b[0;34m\u001b[0m\u001b[0;34m\u001b[0m\u001b[0m\n\u001b[1;32m    734\u001b[0m                 \u001b[0;31m# re-raise KeyboardInterrupt, to truncate traceback\u001b[0m\u001b[0;34m\u001b[0m\u001b[0;34m\u001b[0m\u001b[0;34m\u001b[0m\u001b[0m\n\u001b[0;32m--> 735\u001b[0;31m                 \u001b[0;32mraise\u001b[0m \u001b[0mKeyboardInterrupt\u001b[0m\u001b[0;34m\u001b[0m\u001b[0;34m\u001b[0m\u001b[0m\n\u001b[0m\u001b[1;32m    736\u001b[0m             \u001b[0;32melse\u001b[0m\u001b[0;34m:\u001b[0m\u001b[0;34m\u001b[0m\u001b[0;34m\u001b[0m\u001b[0m\n\u001b[1;32m    737\u001b[0m                 \u001b[0;32mbreak\u001b[0m\u001b[0;34m\u001b[0m\u001b[0;34m\u001b[0m\u001b[0m\n",
            "\u001b[0;31mKeyboardInterrupt\u001b[0m: "
          ]
        }
      ]
    },
    {
      "cell_type": "markdown",
      "metadata": {
        "id": "WI9guSIB5yfD",
        "colab_type": "text"
      },
      "source": [
        "\n",
        "Twenty One : Game\n",
        "\n",
        "In a game of 21 the aim is to get to 21 by picking cards without going over. Produce a system for randomly selecting cards from a deck of cards. Face cards are worth 10 and the ace is 1 or 11. Read the rules here : en.wikipedia.org/wiki/Twenty-One_(card_game)\n",
        "\n",
        "hint: You will need to use the random module!"
      ]
    }
  ]
}