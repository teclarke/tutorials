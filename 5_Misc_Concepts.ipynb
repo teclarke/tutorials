{
  "nbformat": 4,
  "nbformat_minor": 0,
  "metadata": {
    "colab": {
      "name": "5 Misc Concepts",
      "provenance": [],
      "collapsed_sections": [],
      "toc_visible": true,
      "include_colab_link": true
    },
    "kernelspec": {
      "display_name": "Python 3",
      "name": "python3"
    }
  },
  "cells": [
    {
      "cell_type": "markdown",
      "metadata": {
        "id": "view-in-github",
        "colab_type": "text"
      },
      "source": [
        "<a href=\"https://colab.research.google.com/github/teclarke/tutorials/blob/master/5_Misc_Concepts.ipynb\" target=\"_parent\"><img src=\"https://colab.research.google.com/assets/colab-badge.svg\" alt=\"Open In Colab\"/></a>"
      ]
    },
    {
      "cell_type": "markdown",
      "metadata": {
        "id": "eP-gV6rFHFQC",
        "colab_type": "text"
      },
      "source": [
        "# Misc Concepts"
      ]
    },
    {
      "cell_type": "markdown",
      "metadata": {
        "id": "YNuQ923tzR3L",
        "colab_type": "text"
      },
      "source": [
        "In this section we will cover smaller concepts you should know for the NEA. These are :\n",
        "\n",
        "* Reading and writing from / to a text file\n",
        "* Using standard libraries\n",
        "* How to draw a flow diagram\n",
        "\n",
        "## 1. Reading and Writing\n",
        "There are **MANY** cases where we want to ensure our results are stored after we calculate them.\n",
        "\n",
        " There are also cases where we might have a long list of inputs we do not want to tediously type out manually. In these cases we need to understand Input/Output, also known as **IO**.\n",
        "\n",
        "In Python there are several libraries which can be used for this, but we will limit ourselves to the simplest approach - Using ```open```.\n",
        "### Reading from a file\n",
        "Let's look at a common example. We have a list of names: ```fake_names.csv```.\n",
        "\n"
      ]
    },
    {
      "cell_type": "code",
      "metadata": {
        "id": "ct584HH8z7bZ",
        "colab_type": "code",
        "outputId": "cee09512-871e-4dc2-f00e-8151c75708f3",
        "colab": {
          "base_uri": "https://localhost:8080/",
          "height": 1000
        }
      },
      "source": [
        "filename = \"fake_names.csv\"\n",
        "newline = \"\\n\"\n",
        "\n",
        "names = []\n",
        "with open(filename, 'r') as f:\n",
        "    for row in f:\n",
        "        row = row.strip(newline)\n",
        "        names.append(row)\n",
        "\n",
        "for name in names:\n",
        "    print(name)"
      ],
      "execution_count": 0,
      "outputs": [
        {
          "output_type": "stream",
          "text": [
            "Clerkclaude,Yankin\n",
            "Kristofer,Prosh\n",
            "Guglielma,Niemetz\n",
            "Kevyn,Beveredge\n",
            "Pip,Weild\n",
            "Karina,Machan\n",
            "Reggi,Littler\n",
            "Leonerd,Eagling\n",
            "Arel,Batcheldor\n",
            "Arabel,Seiffert\n",
            "Abner,Agass\n",
            "Erda,Chappell\n",
            "Stephannie,Maskill\n",
            "Dud,Obee\n",
            "Abbey,Huddles\n",
            "Scarlet,Burchatt\n",
            "Harris,Langhorn\n",
            "Arly,Pitrelli\n",
            "Tabina,Hendricks\n",
            "Carmelita,Elliston\n",
            "Raymund,Synder\n",
            "Gussi,Brader\n",
            "Harbert,Burnand\n",
            "Jim,Bryning\n",
            "Lonnie,Bellamy\n",
            "Brockie,Forsaith\n",
            "Jdavie,Pavlata\n",
            "Hana,Sargood\n",
            "Diandra,Spinelli\n",
            "Terza,Laterza\n",
            "Teodoor,Edie\n",
            "Moses,Barnsdall\n",
            "Ardelle,Wilsher\n",
            "Maighdiln,Shuxsmith\n",
            "Wallis,Blakiston\n",
            "Meggy,De Brett\n",
            "Yehudit,Jablonski\n",
            "Marya,Perillo\n",
            "Berne,Flooks\n",
            "Kalle,Yancey\n",
            "Lillis,Gavozzi\n",
            "Angeline,Spear\n",
            "Bennie,Sara\n",
            "Dina,Van Der Weedenburg\n",
            "Elna,Andries\n",
            "Coretta,Bickerstaff\n",
            "Elnar,Breffitt\n",
            "Ertha,Acreman\n",
            "Amabelle,Rodmell\n",
            "Charlton,Eastmond\n",
            "Kitti,Shyram\n",
            "Timmie,Willoughby\n",
            "Anton,Newberry\n",
            "Elsinore,Turnock\n",
            "Lois,Merryman\n",
            "Cazzie,Dursley\n",
            "Pernell,Fritz\n",
            "Silvia,Mattaus\n",
            "Madelaine,Colbert\n",
            "Raf,Garralts\n",
            "Phillie,Meran\n",
            "Virgil,Cockerill\n",
            "Jacobo,Fosken\n",
            "Aggi,Toombes\n",
            "Faun,Sirl\n",
            "Tracey,Demke\n",
            "Ashlan,Prosek\n",
            "Garold,Kaas\n",
            "Allianora,Loyndon\n",
            "Brandyn,Nazer\n",
            "Basilius,Caldero\n",
            "Glennis,Plumridege\n",
            "Sonnie,Rentoll\n",
            "Faunie,Keedwell\n",
            "Anastasie,Surguine\n",
            "Wilburt,Heathorn\n",
            "Louisa,Drover\n",
            "Madelle,Godby\n",
            "Constantine,Haggerwood\n",
            "Barny,Bridgstock\n",
            "Lorraine,Mintoft\n",
            "Katti,Croyden\n",
            "Freddi,Cowpland\n",
            "Alyss,Bellin\n",
            "Ferdinanda,Spelman\n",
            "Tildi,Cozins\n",
            "Lora,Stairmond\n",
            "Amelie,De Carolis\n",
            "Delainey,Chess\n",
            "Madelena,Brasted\n",
            "Anetta,Kyngdon\n",
            "Desdemona,Plan\n",
            "Hermy,Benois\n",
            "Anjela,Kauscher\n",
            "Robbyn,Bartalucci\n",
            "Renell,Bruhke\n",
            "Adelina,Vian\n",
            "Janean,Van Bruggen\n",
            "Dani,Burwin\n",
            "Royall,Moakler\n"
          ],
          "name": "stdout"
        }
      ]
    },
    {
      "cell_type": "markdown",
      "metadata": {
        "id": "9mgoPwJC3OHf",
        "colab_type": "text"
      },
      "source": [
        "It is essential you save your code in the same directory as the CSV file. Things to avoid doing :\n",
        "\n",
        "* Do not open the file in MS Excel and then save it. This code can only understand plaintext files NOT MS Excel files.\n",
        "* Make sure the PY and CSV files are the same folder. Preferably alone. If not you will get an error!\n",
        "Let us look at the key points of the above code :\n",
        "\n",
        "  ``` open(filename, 'r')```\n",
        "   - this tells the computer to open the filename with the property ```'r' ``` which is read!\n",
        "\n",
        "  ``` for row in f ```\n",
        "  - this will iterate over the CSV file line by line\n",
        "\n",
        "  ```row = row.strip('\\n')```\n",
        "  - this will remove the end line character from our text otherwise it will continue to be a plague on our ability to get things done!"
      ]
    },
    {
      "cell_type": "markdown",
      "metadata": {
        "id": "2i2ufEUH3nh5",
        "colab_type": "text"
      },
      "source": [
        "## Writing to a file\n"
      ]
    },
    {
      "cell_type": "code",
      "metadata": {
        "id": "hRkN2YUf3sku",
        "colab_type": "code",
        "outputId": "2a53ab6f-0b69-47e7-cc6f-b86a844b25b4",
        "colab": {
          "base_uri": "https://localhost:8080/",
          "height": 102
        }
      },
      "source": [
        "names = []\n",
        "\n",
        "ask_for = 5  # ask for this number of names\n",
        "\n",
        "while len(names) < ask_for:\n",
        "    new_name = input(\"enter a name >>\")\n",
        "    names.append(new_name)\n",
        "\n",
        "with open('names.txt', 'w') as f:\n",
        "    for name in names:\n",
        "        print(name, file=f)"
      ],
      "execution_count": 0,
      "outputs": [
        {
          "output_type": "stream",
          "text": [
            "enter a name >>tom clarke\n",
            "enter a name >>tom clarke\n",
            "enter a name >>tom clarke\n",
            "enter a name >>tom clarke\n",
            "enter a name >>tom clarke\n"
          ],
          "name": "stdout"
        }
      ]
    },
    {
      "cell_type": "markdown",
      "metadata": {
        "id": "ttE5IjZV3489",
        "colab_type": "text"
      },
      "source": [
        "1. ```'w'``` as an option tells the computer to override the file. There are two other options.\n",
        "\n",
        "2. ```'a'``` will append to an existing file. \n",
        "3. ```'x'``` will create a new file. Crucially it will cause a crash if you try to overwrite an existing file BUT ```'w'``` will not.\n",
        "\n",
        "4. ```print(..., file=f)``` will ```'output'``` whatever you print to the file ```'f'``` instead of the screen."
      ]
    },
    {
      "cell_type": "markdown",
      "metadata": {
        "id": "v_BSYPx64YRS",
        "colab_type": "text"
      },
      "source": [
        "##2.  Using Standard Libraries\n",
        "A standard library is a collection of functions and variables that come with every Python installation as standard. The full list can be seen [docs.python.org/3/library/index.html](https://docs.python.org/3/library/index.html)\n",
        "\n",
        "### In this list the following libraries are of especial note :\n",
        "\n",
        "* ```random``` : How to make random numbers, choose random elements and shuffle lists\n",
        "* ```statistics```: Common operations in statistics like mean, median and mode.\n",
        "* ```math``` : Common mathematical operations like trigonometry. Also contains pi.\n",
        "* ```itertools``` : Iteration tools useful for producing patterns from lists like combinations and permutations. Surprisingly useful!\n",
        "\n",
        "\n",
        "There are many more libraries on the site and I would recommend asking yourself before wondering how to do a task, whether Python can do that task for you. \n",
        "**Remember - In your NEA you can only use code you have wrote yourself unless it is a standard library function.  I will know if you cheat.**"
      ]
    },
    {
      "cell_type": "code",
      "metadata": {
        "id": "v5bMK9jF460h",
        "colab_type": "code",
        "outputId": "8b4c245e-9557-47b6-fd76-1b78d33e0b4d",
        "colab": {
          "base_uri": "https://localhost:8080/",
          "height": 34
        }
      },
      "source": [
        "import random\n",
        "print(random.random())"
      ],
      "execution_count": 0,
      "outputs": [
        {
          "output_type": "stream",
          "text": [
            "0.8814151878737169\n"
          ],
          "name": "stdout"
        }
      ]
    },
    {
      "cell_type": "code",
      "metadata": {
        "id": "k6ii_lZx48dJ",
        "colab_type": "code",
        "outputId": "85fbd23a-30e3-4932-bcc0-f307b38d7457",
        "colab": {
          "base_uri": "https://localhost:8080/",
          "height": 34
        }
      },
      "source": [
        "from os import getcwd\n",
        "print(getcwd())"
      ],
      "execution_count": 0,
      "outputs": [
        {
          "output_type": "stream",
          "text": [
            "/content\n"
          ],
          "name": "stdout"
        }
      ]
    },
    {
      "cell_type": "markdown",
      "metadata": {
        "id": "0hcZf2kr5ADP",
        "colab_type": "text"
      },
      "source": [
        "## Exercises\n",
        "### Basic Login System\n",
        "\n",
        "Write two ```functions add_user()``` and ```login()```.\n",
        "\n",
        "The ```add_user()``` function should :\n",
        "\n",
        "* Ask the user for their username and password\n",
        "  - The password should be >= 8 characters long.\n",
        "* Ask the user to enter the password a second time to confirm.\n",
        "* If it is incorrect, ask again. \n",
        "* If it is correct append to a text file called ```users.txt``` in the format ```USERNAME, PASSWORD``` per line.\n",
        "\n",
        "The ```login()``` function should :\n",
        "\n",
        "* Load the ```users.txt``` file.\n",
        "  - Ensure there is at least one user and password in the file.\n",
        "* Ask the user for their username and password. \n",
        "  - Ensure both are correct as stated in the text file.\n",
        "  - If so return otherwise trap the use in an infinite loop until they enter valid details.\n"
      ]
    },
    {
      "cell_type": "code",
      "metadata": {
        "id": "LS7B2_H25yGl",
        "colab_type": "code",
        "colab": {}
      },
      "source": [
        "from getpass import getpass\n",
        "\n",
        "def add_user(users_file):\n",
        "  \"\"\"\n",
        "  Asks user for a username and a password.\n",
        "  Checks if username already exists.\n",
        "  Confirms and validates password.\n",
        "  Adds to file 'users_file' in format username,password. \n",
        "  \"\"\"\n",
        "  valid_username = False\n",
        "  invalid = False\n",
        "  while not valid_username:\n",
        "    username = input(\"Please enter a username. >\")\n",
        "    with open(users_file, \"r\") as f:\n",
        "      for line in f:\n",
        "        l = line.split(\",\")\n",
        "        if username == l[0]:\n",
        "          print(\"User with this username already exists.\")\n",
        "          invalid = True\n",
        "        elif not invalid:\n",
        "          print(\"Adding user\", username)\n",
        "          valid_username = True\n",
        "\n",
        "  password = \"\"\n",
        "  conf = \"000\"\n",
        "  while len(password) < 8 and password != conf: \n",
        "    password = getpass(\"Please enter a password. >\")\n",
        "    if len(password) < 8:\n",
        "      print(\"The password is too short.\")\n",
        "    else:\n",
        "      conf = getpass(\"Please confirm your password. >\")\n",
        "\n",
        "  with open(users_file, \"a\") as f:\n",
        "    print(username+\",\"+password, file=f)\n",
        "\n",
        "add_user(\"users.txt\")"
      ],
      "execution_count": 0,
      "outputs": []
    },
    {
      "cell_type": "markdown",
      "metadata": {
        "id": "WI9guSIB5yfD",
        "colab_type": "text"
      },
      "source": [
        "\n",
        "Twenty One : Game\n",
        "\n",
        "In a game of 21 the aim is to get to 21 by picking cards without going over. Produce a system for randomly selecting cards from a deck of cards. Face cards are worth 10 and the ace is 1 or 11. Read the rules here : en.wikipedia.org/wiki/Twenty-One_(card_game)\n",
        "\n",
        "hint: You will need to use the random module!"
      ]
    }
  ]
}