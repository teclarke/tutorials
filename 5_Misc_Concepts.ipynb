{
  "nbformat": 4,
  "nbformat_minor": 0,
  "metadata": {
    "colab": {
      "name": "5 Misc Concepts",
      "provenance": [],
      "collapsed_sections": [],
      "include_colab_link": true
    },
    "kernelspec": {
      "display_name": "Python 3",
      "name": "python3"
    }
  },
  "cells": [
    {
      "cell_type": "markdown",
      "metadata": {
        "id": "view-in-github",
        "colab_type": "text"
      },
      "source": [
        "<a href=\"https://colab.research.google.com/github/teclarke/tutorials/blob/master/5_Misc_Concepts.ipynb\" target=\"_parent\"><img src=\"https://colab.research.google.com/assets/colab-badge.svg\" alt=\"Open In Colab\"/></a>"
      ]
    },
    {
      "cell_type": "markdown",
      "metadata": {
        "id": "eP-gV6rFHFQC",
        "colab_type": "text"
      },
      "source": [
        "# Misc Concepts"
      ]
    },
    {
      "cell_type": "markdown",
      "metadata": {
        "id": "YNuQ923tzR3L",
        "colab_type": "text"
      },
      "source": [
        "In this section we will cover smaller concepts you should know for the NEA. These are :\n",
        "\n",
        "* Reading and writing from / to a text file\n",
        "* Using standard libraries\n",
        "* How to draw a flow diagram\n",
        "\n",
        "## 1. Reading and Writing\n",
        "There are **MANY** cases where we want to ensure our results are stored after we calculate them.\n",
        "\n",
        " There are also cases where we might have a long list of inputs we do not want to tediously type out manually. In these cases we need to understand Input/Output, also known as **IO**.\n",
        "\n",
        "In Python there are several libraries which can be used for this, but we will limit ourselves to the simplest approach - Using ```open```.\n",
        "### Reading from a file\n",
        "Let's look at a common example. We have a list of names: ```fake_names.csv```.\n",
        "\n"
      ]
    },
    {
      "cell_type": "code",
      "metadata": {
        "id": "ct584HH8z7bZ",
        "colab_type": "code",
        "colab": {
          "base_uri": "https://localhost:8080/",
          "height": 231
        },
        "outputId": "48eb8ab0-063b-4d08-c2c5-35f9eedba649"
      },
      "source": [
        "filename = \"fake_names.csv\"\n",
        "newline = \"\\n\"\n",
        "\n",
        "names = []\n",
        "with open(filename, 'r') as f:\n",
        "    for row in f:\n",
        "        row = row.strip(newline)\n",
        "        names.append(row)\n",
        "\n",
        "for name in names:\n",
        "    print(name)"
      ],
      "execution_count": 1,
      "outputs": [
        {
          "output_type": "error",
          "ename": "FileNotFoundError",
          "evalue": "ignored",
          "traceback": [
            "\u001b[0;31m---------------------------------------------------------------------------\u001b[0m",
            "\u001b[0;31mFileNotFoundError\u001b[0m                         Traceback (most recent call last)",
            "\u001b[0;32m<ipython-input-1-8914f6a9f99c>\u001b[0m in \u001b[0;36m<module>\u001b[0;34m()\u001b[0m\n\u001b[1;32m      3\u001b[0m \u001b[0;34m\u001b[0m\u001b[0m\n\u001b[1;32m      4\u001b[0m \u001b[0mnames\u001b[0m \u001b[0;34m=\u001b[0m \u001b[0;34m[\u001b[0m\u001b[0;34m]\u001b[0m\u001b[0;34m\u001b[0m\u001b[0;34m\u001b[0m\u001b[0m\n\u001b[0;32m----> 5\u001b[0;31m \u001b[0;32mwith\u001b[0m \u001b[0mopen\u001b[0m\u001b[0;34m(\u001b[0m\u001b[0mfilename\u001b[0m\u001b[0;34m,\u001b[0m \u001b[0;34m'r'\u001b[0m\u001b[0;34m)\u001b[0m \u001b[0;32mas\u001b[0m \u001b[0mf\u001b[0m\u001b[0;34m:\u001b[0m\u001b[0;34m\u001b[0m\u001b[0;34m\u001b[0m\u001b[0m\n\u001b[0m\u001b[1;32m      6\u001b[0m     \u001b[0;32mfor\u001b[0m \u001b[0mrow\u001b[0m \u001b[0;32min\u001b[0m \u001b[0mf\u001b[0m\u001b[0;34m:\u001b[0m\u001b[0;34m\u001b[0m\u001b[0;34m\u001b[0m\u001b[0m\n\u001b[1;32m      7\u001b[0m         \u001b[0mrow\u001b[0m \u001b[0;34m=\u001b[0m \u001b[0mrow\u001b[0m\u001b[0;34m.\u001b[0m\u001b[0mstrip\u001b[0m\u001b[0;34m(\u001b[0m\u001b[0mnewline\u001b[0m\u001b[0;34m)\u001b[0m\u001b[0;34m\u001b[0m\u001b[0;34m\u001b[0m\u001b[0m\n",
            "\u001b[0;31mFileNotFoundError\u001b[0m: [Errno 2] No such file or directory: 'fake_names.csv'"
          ]
        }
      ]
    }
  ]
}