{
  "nbformat": 4,
  "nbformat_minor": 0,
  "metadata": {
    "colab": {
      "name": "4 For loops and functions.ipynb",
      "provenance": [],
      "collapsed_sections": [],
      "include_colab_link": true
    },
    "kernelspec": {
      "display_name": "Python 3",
      "name": "python3"
    }
  },
  "cells": [
    {
      "cell_type": "markdown",
      "metadata": {
        "id": "view-in-github",
        "colab_type": "text"
      },
      "source": [
        "<a href=\"https://colab.research.google.com/github/teclarke/tutorials/blob/master/4_For_loops_and_functions.ipynb\" target=\"_parent\"><img src=\"https://colab.research.google.com/assets/colab-badge.svg\" alt=\"Open In Colab\"/></a>"
      ]
    },
    {
      "cell_type": "markdown",
      "metadata": {
        "id": "eP-gV6rFHFQC",
        "colab_type": "text"
      },
      "source": [
        "# For loops and functions\n",
        "\n",
        "## Review\n",
        "So far you should know :\n",
        "\n",
        "1. How to create variables and perform tests using conditionals\n",
        "2. How to use while loops to repeat code until a condition has been met\n",
        "3. How to store multiple pieces of information in a list\n",
        "4. How to use sum and len on a list.\n",
        "\n",
        "## More useful things with lists\n",
        "### Finding Items\n",
        "\n",
        "We can find items using the in operator. Like so!\n",
        "```\n",
        ">>> 'apples' in ('pears', 'cheddar', 'fruit')\n",
        "True\n",
        ">>> 'cheddar' in ('bree', 'halloumi', 'babybel', 'gouda')\n",
        "False\n",
        "```\n",
        "\n",
        "### Generating Numbers\n",
        "\n",
        "The range function allows us to generate numbers in a sequence.\n",
        "\n",
        " For example range(5) generates 0, 1, 2, 3, 4. \n",
        " \n",
        " This is why there five numbers in total. \n",
        " \n",
        " We can also provide two numbers range(10, 15) generates 10, 11, 12, 13, 14. If we want to change the step (from the default of 1) we can specify it. \n",
        " \n",
        " For example range(10, 30, 5) will produce 10, 15, 20, 25.\n",
        "```\n",
        "for j in range(10, 0, -1):\n",
        "  print(j)\n",
        "\n",
        "print(\"Lift off!\")\n",
        "```\n",
        "\n",
        "## List Exercises\n",
        "### Sum of Cubed Numbers\n",
        "\n",
        "Produce a list of a cubed numbers from M3 to N3  where M < N. Sum the result."
      ]
    },
    {
      "cell_type": "code",
      "metadata": {
        "id": "7zWyzZYfPSRo",
        "colab_type": "code",
        "colab": {
          "base_uri": "https://localhost:8080/",
          "height": 51
        },
        "outputId": "36e6a98c-f33d-45c9-b76b-76cc88b83795"
      },
      "source": [
        "m = int(input(\"Please enter lower limit. >\"))\n",
        "n = int(input(\"Please enter upper limit. >\"))"
      ],
      "execution_count": 6,
      "outputs": [
        {
          "output_type": "stream",
          "text": [
            "Please enter lower limit. >1\n",
            "Please enter upper limit. >3\n"
          ],
          "name": "stdout"
        }
      ]
    },
    {
      "cell_type": "code",
      "metadata": {
        "id": "zA94ZBdrP54H",
        "colab_type": "code",
        "colab": {
          "base_uri": "https://localhost:8080/",
          "height": 51
        },
        "outputId": "2d07e0a3-0072-458e-8abf-b290363998d8"
      },
      "source": [
        "cubed_numbers = []\n",
        "for x in range(m,n+1):\n",
        "  x**=3\n",
        "  cubed_numbers.append(x)\n",
        "print(cubed_numbers)\n",
        "print(\"Total sum:\", sum(cubed_numbers))  "
      ],
      "execution_count": 8,
      "outputs": [
        {
          "output_type": "stream",
          "text": [
            "[1, 8, 27]\n",
            "Total sum: 36\n"
          ],
          "name": "stdout"
        }
      ]
    },
    {
      "cell_type": "markdown",
      "metadata": {
        "id": "pvm_qlSlRAsK",
        "colab_type": "text"
      },
      "source": [
        "### Remove duplicates from a list manually\n",
        "\n",
        "The following code will generate 20 numbers with some duplicates. Iterate over the list and add unique items to a new list."
      ]
    },
    {
      "cell_type": "code",
      "metadata": {
        "id": "Tx_tPUbmRGj1",
        "colab_type": "code",
        "colab": {
          "base_uri": "https://localhost:8080/",
          "height": 51
        },
        "outputId": "7ebee157-42e4-4727-9806-83aead5c2c6c"
      },
      "source": [
        "from random import choices\n",
        "\n",
        "items = list(choices(range(-10, 10), k=20))\n",
        "unique = []\n",
        "for item in items:\n",
        "  if item not in unique:\n",
        "    unique.append(item)\n",
        "unique.sort()\n",
        "print(\"Original\", items)\n",
        "print(\"No duplicates\", unique)"
      ],
      "execution_count": 12,
      "outputs": [
        {
          "output_type": "stream",
          "text": [
            "Original [-10, -3, -1, 5, 8, 2, 1, 4, 2, 9, -7, -3, -1, 6, -7, 2, 5, -5, -6, 3]\n",
            "No duplicates [-10, -7, -6, -5, -3, -1, 1, 2, 3, 4, 5, 6, 8, 9]\n"
          ],
          "name": "stdout"
        }
      ]
    },
    {
      "cell_type": "markdown",
      "metadata": {
        "id": "7llsSRjuR8oa",
        "colab_type": "text"
      },
      "source": [
        "## Permutations of items\n",
        "\n",
        "Write a program which outputs all possible permutations of a list :"
      ]
    },
    {
      "cell_type": "code",
      "metadata": {
        "id": "vPhEQG54SmhG",
        "colab_type": "code",
        "colab": {}
      },
      "source": [
        "items = ['apple', 'cheese', 'pickle']"
      ],
      "execution_count": 0,
      "outputs": []
    },
    {
      "cell_type": "markdown",
      "metadata": {
        "id": "TNDyvPoKSpo9",
        "colab_type": "text"
      },
      "source": [
        "\n",
        "Should output:\n",
        "```\n",
        "('apple', 'cheese', 'pickle')\n",
        "('apple', 'pickle', 'cheese')\n",
        "('cheese', 'apple', 'pickle')\n",
        "('cheese', 'pickle', 'apple')\n",
        "('pickle', 'apple', 'cheese')\n",
        "('pickle', 'cheese', 'apple')\n",
        "```"
      ]
    },
    {
      "cell_type": "code",
      "metadata": {
        "id": "Jr0VfnUFSQED",
        "colab_type": "code",
        "colab": {
          "base_uri": "https://localhost:8080/",
          "height": 34
        },
        "outputId": "0b1874b8-5416-478b-9e75-136594051210"
      },
      "source": [
        "p = [[] for i in range(len(items))]\n",
        "\n",
        "p"
      ],
      "execution_count": 38,
      "outputs": [
        {
          "output_type": "execute_result",
          "data": {
            "text/plain": [
              "[[], [], []]"
            ]
          },
          "metadata": {
            "tags": []
          },
          "execution_count": 38
        }
      ]
    }
  ]
}