{
  "nbformat": 4,
  "nbformat_minor": 0,
  "metadata": {
    "colab": {
      "name": "4 For loops and functions.ipynb",
      "provenance": [],
      "collapsed_sections": [],
      "include_colab_link": true
    },
    "kernelspec": {
      "display_name": "Python 3",
      "name": "python3"
    }
  },
  "cells": [
    {
      "cell_type": "markdown",
      "metadata": {
        "id": "view-in-github",
        "colab_type": "text"
      },
      "source": [
        "<a href=\"https://colab.research.google.com/github/teclarke/tutorials/blob/master/4_For_loops_and_functions.ipynb\" target=\"_parent\"><img src=\"https://colab.research.google.com/assets/colab-badge.svg\" alt=\"Open In Colab\"/></a>"
      ]
    },
    {
      "cell_type": "markdown",
      "metadata": {
        "id": "eP-gV6rFHFQC",
        "colab_type": "text"
      },
      "source": [
        "# For loops and functions\n",
        "\n",
        "## Review\n",
        "So far you should know :\n",
        "\n",
        "1. How to create variables and perform tests using conditionals\n",
        "2. How to use while loops to repeat code until a condition has been met\n",
        "3. How to store multiple pieces of information in a list\n",
        "4. How to use sum and len on a list.\n",
        "\n",
        "## More useful things with lists\n",
        "### Finding Items\n",
        "\n",
        "We can find items using the in operator. Like so!\n",
        "```\n",
        ">>> 'apples' in ('pears', 'cheddar', 'fruit')\n",
        "True\n",
        ">>> 'cheddar' in ('bree', 'halloumi', 'babybel', 'gouda')\n",
        "False\n",
        "```\n",
        "\n",
        "### Generating Numbers\n",
        "\n",
        "The range function allows us to generate numbers in a sequence.\n",
        "\n",
        " For example range(5) generates 0, 1, 2, 3, 4. \n",
        " \n",
        " This is why there five numbers in total. \n",
        " \n",
        " We can also provide two numbers range(10, 15) generates 10, 11, 12, 13, 14. If we want to change the step (from the default of 1) we can specify it. \n",
        " \n",
        " For example range(10, 30, 5) will produce 10, 15, 20, 25.\n",
        "```\n",
        "for j in range(10, 0, -1):\n",
        "  print(j)\n",
        "\n",
        "print(\"Lift off!\")\n",
        "```\n",
        "\n",
        "## List Exercises\n",
        "### Sum of Cubed Numbers\n",
        "\n",
        "Produce a list of a cubed numbers from M3 to N3  where M < N. Sum the result."
      ]
    },
    {
      "cell_type": "code",
      "metadata": {
        "id": "7zWyzZYfPSRo",
        "colab_type": "code",
        "outputId": "36e6a98c-f33d-45c9-b76b-76cc88b83795",
        "colab": {
          "base_uri": "https://localhost:8080/",
          "height": 51
        }
      },
      "source": [
        "m = int(input(\"Please enter lower limit. >\"))\n",
        "n = int(input(\"Please enter upper limit. >\"))"
      ],
      "execution_count": 0,
      "outputs": [
        {
          "output_type": "stream",
          "text": [
            "Please enter lower limit. >1\n",
            "Please enter upper limit. >3\n"
          ],
          "name": "stdout"
        }
      ]
    },
    {
      "cell_type": "code",
      "metadata": {
        "id": "zA94ZBdrP54H",
        "colab_type": "code",
        "outputId": "2d07e0a3-0072-458e-8abf-b290363998d8",
        "colab": {
          "base_uri": "https://localhost:8080/",
          "height": 51
        }
      },
      "source": [
        "cubed_numbers = []\n",
        "for x in range(m,n+1):\n",
        "  x**=3\n",
        "  cubed_numbers.append(x)\n",
        "print(cubed_numbers)\n",
        "print(\"Total sum:\", sum(cubed_numbers))  "
      ],
      "execution_count": 0,
      "outputs": [
        {
          "output_type": "stream",
          "text": [
            "[1, 8, 27]\n",
            "Total sum: 36\n"
          ],
          "name": "stdout"
        }
      ]
    },
    {
      "cell_type": "markdown",
      "metadata": {
        "id": "pvm_qlSlRAsK",
        "colab_type": "text"
      },
      "source": [
        "### Remove duplicates from a list manually\n",
        "\n",
        "The following code will generate 20 numbers with some duplicates. Iterate over the list and add unique items to a new list."
      ]
    },
    {
      "cell_type": "code",
      "metadata": {
        "id": "Tx_tPUbmRGj1",
        "colab_type": "code",
        "outputId": "7ebee157-42e4-4727-9806-83aead5c2c6c",
        "colab": {
          "base_uri": "https://localhost:8080/",
          "height": 51
        }
      },
      "source": [
        "from random import choices\n",
        "\n",
        "items = list(choices(range(-10, 10), k=20))\n",
        "unique = []\n",
        "for item in items:\n",
        "  if item not in unique:\n",
        "    unique.append(item)\n",
        "unique.sort()\n",
        "print(\"Original\", items)\n",
        "print(\"No duplicates\", unique)"
      ],
      "execution_count": 0,
      "outputs": [
        {
          "output_type": "stream",
          "text": [
            "Original [-10, -3, -1, 5, 8, 2, 1, 4, 2, 9, -7, -3, -1, 6, -7, 2, 5, -5, -6, 3]\n",
            "No duplicates [-10, -7, -6, -5, -3, -1, 1, 2, 3, 4, 5, 6, 8, 9]\n"
          ],
          "name": "stdout"
        }
      ]
    },
    {
      "cell_type": "markdown",
      "metadata": {
        "id": "7llsSRjuR8oa",
        "colab_type": "text"
      },
      "source": [
        "## Permutations of items\n",
        "\n",
        "Write a program which outputs all possible permutations of a list :"
      ]
    },
    {
      "cell_type": "code",
      "metadata": {
        "id": "vPhEQG54SmhG",
        "colab_type": "code",
        "colab": {}
      },
      "source": [
        "items = ['apple', 'cheese', 'pickle']"
      ],
      "execution_count": 0,
      "outputs": []
    },
    {
      "cell_type": "markdown",
      "metadata": {
        "id": "TNDyvPoKSpo9",
        "colab_type": "text"
      },
      "source": [
        "\n",
        "Should output:\n",
        "```\n",
        "('apple', 'cheese', 'pickle')\n",
        "('apple', 'pickle', 'cheese')\n",
        "('cheese', 'apple', 'pickle')\n",
        "('cheese', 'pickle', 'apple')\n",
        "('pickle', 'apple', 'cheese')\n",
        "('pickle', 'cheese', 'apple')\n",
        "```"
      ]
    },
    {
      "cell_type": "code",
      "metadata": {
        "id": "Jr0VfnUFSQED",
        "colab_type": "code",
        "outputId": "dc864720-58a6-465c-fae2-0913785e0984",
        "colab": {
          "base_uri": "https://localhost:8080/",
          "height": 119
        }
      },
      "source": [
        "import itertools\n",
        "list(itertools.permutations(items))"
      ],
      "execution_count": 0,
      "outputs": [
        {
          "output_type": "execute_result",
          "data": {
            "text/plain": [
              "[('apple', 'cheese', 'pickle'),\n",
              " ('apple', 'pickle', 'cheese'),\n",
              " ('cheese', 'apple', 'pickle'),\n",
              " ('cheese', 'pickle', 'apple'),\n",
              " ('pickle', 'apple', 'cheese'),\n",
              " ('pickle', 'cheese', 'apple')]"
            ]
          },
          "metadata": {
            "tags": []
          },
          "execution_count": 6
        }
      ]
    },
    {
      "cell_type": "markdown",
      "metadata": {
        "id": "IESVe86h39k0",
        "colab_type": "text"
      },
      "source": [
        "## Output Overlapping Terms\n",
        "Two words are passed. Only output letters from the first which appear in the second, otherwise '_'\n",
        "\n",
        "For example:\n",
        " ```\n",
        " first = 'cheese'; second = 'he'\n",
        " ```\n",
        "\n",
        "outputs :\n",
        "``` '_hee_e' ```\n",
        "\n",
        "***extension*** Use this to produce a game of hangman."
      ]
    },
    {
      "cell_type": "code",
      "metadata": {
        "id": "Co-JoCY74RwD",
        "colab_type": "code",
        "outputId": "44db08b6-5ade-4ab1-e863-f07a76140117",
        "colab": {
          "base_uri": "https://localhost:8080/",
          "height": 34
        }
      },
      "source": [
        "def overlap(first,second):\n",
        "  overlapping = \"\"\n",
        "  for letter in first:\n",
        "    if letter in second:\n",
        "      overlapping += letter\n",
        "    else:\n",
        "      overlapping += \"_\"\n",
        "  return overlapping\n",
        "\n",
        "first = \"cheese\"\n",
        "second = \"he\"\n",
        "print(overlap(first,second))"
      ],
      "execution_count": 0,
      "outputs": [
        {
          "output_type": "stream",
          "text": [
            "_hee_e\n"
          ],
          "name": "stdout"
        }
      ]
    },
    {
      "cell_type": "markdown",
      "metadata": {
        "id": "T63eYLmM1JDB",
        "colab_type": "text"
      },
      "source": [
        "# Functions and procedures\n",
        "\n",
        "In Python we will often want to repeat code. One of the most important things to learn about coding is to obey the DRY principle. \n",
        "\n",
        "**DRY means DON'T REPEAT YOURSELF**\n",
        "\n",
        "One way we can ensure this, is to write functions. A function takes inputs and gives outputs. You've already used functions like sum, len and input. Each of these take inputs and give us back something useful. Mastering functions is essential to writing good code!\n",
        "\n",
        "For example, let's write a function that returns all the odd numbers between two numbers.\n",
        "\n",
        "* Functions - **A block of code that takes an input and returns a value.**\n",
        "* Procedures **A block of code that does not return an output value.**\n",
        "\n",
        "*Functions and procedures are used to **improve readibility & avoid repetition**.*\n",
        "\n",
        "* Abstraction **Removing unnecessary detail.**\n",
        "* Decomposition **Breaking a problem down into managable tasks.**\n",
        "\n",
        "* Encapsulation - **Hiding unnecessary details.**"
      ]
    },
    {
      "cell_type": "markdown",
      "metadata": {
        "id": "MBhr-P2hSkJ5",
        "colab_type": "text"
      },
      "source": [
        "## Exercises using functions\n",
        "1. Write a Python function to find the Max of three numbers."
      ]
    },
    {
      "cell_type": "code",
      "metadata": {
        "id": "vfXeH9Y4T7fO",
        "colab_type": "code",
        "colab": {}
      },
      "source": [
        "def input_numbers(how_many_numbers):\n",
        "  \"\"\"\n",
        "  Asks the user to input how_many_numbers numbers and stores them in a list.\n",
        "  \"\"\"\n",
        "  nums = []\n",
        "  while len(nums) < how_many_numbers:\n",
        "    try:\n",
        "      number = float(input(\"> \"))\n",
        "      nums.append(number)\n",
        "    except ValueError:\n",
        "      print(\"Failed.\")\n",
        "  return nums"
      ],
      "execution_count": 0,
      "outputs": []
    },
    {
      "cell_type": "code",
      "metadata": {
        "id": "syj7XCGJSp8I",
        "colab_type": "code",
        "outputId": "a03505ca-b95f-41f1-bc2c-42b68bda416a",
        "colab": {
          "base_uri": "https://localhost:8080/",
          "height": 85
        }
      },
      "source": [
        "def find_max(n):\n",
        "  \"\"\"\n",
        "  Finds the largest number in list n\n",
        "  \"\"\"\n",
        "  return max(n)\n",
        "\n",
        "numbers = get_numbers(3)\n",
        "find_max(numbers)\n"
      ],
      "execution_count": 8,
      "outputs": [
        {
          "output_type": "stream",
          "text": [
            "Enter a number. >1\n",
            "Enter a number. >2\n",
            "Enter a number. >3\n"
          ],
          "name": "stdout"
        },
        {
          "output_type": "execute_result",
          "data": {
            "text/plain": [
              "3.0"
            ]
          },
          "metadata": {
            "tags": []
          },
          "execution_count": 8
        }
      ]
    },
    {
      "cell_type": "markdown",
      "metadata": {
        "id": "oKD0_R-bTeAe",
        "colab_type": "text"
      },
      "source": [
        "2. Write a Python function to multiply all the numbers in a list.\n"
      ]
    },
    {
      "cell_type": "code",
      "metadata": {
        "id": "2Qs_barWTfD9",
        "colab_type": "code",
        "outputId": "3db983b2-3ac6-4ac2-b12c-f938acc3afb8",
        "colab": {
          "base_uri": "https://localhost:8080/",
          "height": 85
        }
      },
      "source": [
        "def multiply_numbers(n):\n",
        "  \"\"\"\n",
        "  Multiplies all numbers in list n together.\n",
        "  \"\"\"\n",
        "  multiplied = 0\n",
        "  for number in n:\n",
        "    if multiplied == 0:\n",
        "      multiplied = number\n",
        "    else:\n",
        "      multiplied *= number\n",
        "  return multiplied\n",
        "\n",
        "list_of_numbers = input_numbers(3)\n",
        "multiply_numbers(list_of_numbers)"
      ],
      "execution_count": 11,
      "outputs": [
        {
          "output_type": "stream",
          "text": [
            "Enter a number. >1\n",
            "Enter a number. >5\n",
            "Enter a number. >10\n"
          ],
          "name": "stdout"
        },
        {
          "output_type": "execute_result",
          "data": {
            "text/plain": [
              "50.0"
            ]
          },
          "metadata": {
            "tags": []
          },
          "execution_count": 11
        }
      ]
    },
    {
      "cell_type": "markdown",
      "metadata": {
        "id": "AmH5mKT5U1xj",
        "colab_type": "text"
      },
      "source": [
        "3. Write a function that returns True if a number is odd and False if even."
      ]
    },
    {
      "cell_type": "code",
      "metadata": {
        "id": "Iwh89boUU-TG",
        "colab_type": "code",
        "outputId": "7a628464-1f9b-4fcf-8b7e-14d05e10a189",
        "colab": {
          "base_uri": "https://localhost:8080/",
          "height": 51
        }
      },
      "source": [
        "def is_odd(n):\n",
        "  \"\"\"\n",
        "  Returns true if number n is odd and false if n is even.\n",
        "  \"\"\"\n",
        "  if n % 2 == 0:\n",
        "    return False\n",
        "  else:\n",
        "    return True\n",
        "\n",
        "print(is_odd(2))\n",
        "print(is_odd(3))"
      ],
      "execution_count": 12,
      "outputs": [
        {
          "output_type": "stream",
          "text": [
            "False\n",
            "True\n"
          ],
          "name": "stdout"
        }
      ]
    },
    {
      "cell_type": "markdown",
      "metadata": {
        "id": "MzCAgoyaV8Kz",
        "colab_type": "text"
      },
      "source": [
        "4. Write a function that returns True if a number is prime and False if not."
      ]
    },
    {
      "cell_type": "code",
      "metadata": {
        "id": "M0H695RjV-Xp",
        "colab_type": "code",
        "outputId": "82c97bdc-ac49-468f-8d28-d1d1b5098a1c",
        "colab": {
          "base_uri": "https://localhost:8080/",
          "height": 51
        }
      },
      "source": [
        "def is_prime(n):\n",
        "  \"\"\"\n",
        "  Returns true if number n is prime and false if it is not.\n",
        "  \"\"\"\n",
        "  if n == 2:\n",
        "    return True\n",
        "  elif n == 1:\n",
        "    return False\n",
        "  else:  \n",
        "    for factor in range(2,n):\n",
        "      if (n % factor) == 0:\n",
        "        return False\n",
        "      else:\n",
        "        return True\n",
        "\n",
        "print(is_prime(10))\n",
        "print(is_prime(2))"
      ],
      "execution_count": 0,
      "outputs": [
        {
          "output_type": "stream",
          "text": [
            "False\n",
            "True\n"
          ],
          "name": "stdout"
        }
      ]
    },
    {
      "cell_type": "markdown",
      "metadata": {
        "id": "FYt9DUtBWx9Y",
        "colab_type": "text"
      },
      "source": [
        "5. Write a function to return the area of a circle based on the diameter being inputted.\n"
      ]
    },
    {
      "cell_type": "code",
      "metadata": {
        "id": "NGOP3pbhWznd",
        "colab_type": "code",
        "outputId": "b58ad91b-f8c7-4048-fce3-0e33a1730e32",
        "colab": {
          "base_uri": "https://localhost:8080/",
          "height": 51
        }
      },
      "source": [
        "from math import pi\n",
        "def area(d):\n",
        "  \"\"\"\n",
        "  Calculates the area of a circle with diameter d.\n",
        "  \"\"\"\n",
        "  r = d/2\n",
        "  a = pi*(r**2)\n",
        "  return a\n",
        "\n",
        "diameter = float(input(\"Enter diameter. >\"))\n",
        "print(\"Area is\", area(diameter))"
      ],
      "execution_count": 0,
      "outputs": [
        {
          "output_type": "stream",
          "text": [
            "Enter diameter. >3\n",
            "Area is 7.0685834705770345\n"
          ],
          "name": "stdout"
        }
      ]
    },
    {
      "cell_type": "markdown",
      "metadata": {
        "id": "hO8tdf_VXOtG",
        "colab_type": "text"
      },
      "source": [
        "6. Write a function that calculates the hypotenuse of a triangle."
      ]
    },
    {
      "cell_type": "code",
      "metadata": {
        "id": "8Rk_9fS3XRH1",
        "colab_type": "code",
        "outputId": "f81edfb4-bf63-405d-de7f-748151f48a34",
        "colab": {
          "base_uri": "https://localhost:8080/",
          "height": 34
        }
      },
      "source": [
        "from math import sqrt\n",
        "def hyp(a,b):\n",
        "  \"\"\"\n",
        "  Calculates the hypoteneuse of a pythagorean triangle from with sides a and b.\n",
        "  \"\"\"\n",
        "  return sqrt((a**2)+(b**2))\n",
        "\n",
        "hyp(3,4)"
      ],
      "execution_count": 14,
      "outputs": [
        {
          "output_type": "execute_result",
          "data": {
            "text/plain": [
              "5.0"
            ]
          },
          "metadata": {
            "tags": []
          },
          "execution_count": 14
        }
      ]
    },
    {
      "cell_type": "markdown",
      "metadata": {
        "id": "fBJI6g3pXpWL",
        "colab_type": "text"
      },
      "source": [
        "7. Write a function that solves the quadratic formula (ax2   + bx + c = 0) hint: remember the quadratic formula!!"
      ]
    },
    {
      "cell_type": "code",
      "metadata": {
        "id": "wx32oM7HXw5G",
        "colab_type": "code",
        "outputId": "a05399f7-6b41-475a-a219-f1801e571f53",
        "colab": {
          "base_uri": "https://localhost:8080/",
          "height": 102
        }
      },
      "source": [
        "def quadratic(a, b, c):\n",
        "  \"\"\"\n",
        "  Calculates the solutions to a quadratic equation in the format ax^2 + bx + c = 0\n",
        "  using the quadratic formula. Returns both solutions, false if no solutions.\n",
        "  \"\"\"\n",
        "  try:\n",
        "    x1 = ((-b)+sqrt((b**2)-(4*a*c)))/(2*a)\n",
        "    x2 = ((-b)-sqrt((b**2)-(4*a*c)))/(2*a)\n",
        "    return x1,x2\n",
        "  except ValueError:\n",
        "    return False\n",
        "\n",
        "print(\"ax^2 + bx + c = 0\")\n",
        "abc = (input_numbers(3))\n",
        "q = quadratic(abc[0], abc[1], abc[2])\n",
        "q = q if q != False else \"No solutions\"\n",
        "print(q)"
      ],
      "execution_count": 27,
      "outputs": [
        {
          "output_type": "stream",
          "text": [
            "ax^2 + bx + c = 0\n",
            "> 1\n",
            "> 2\n",
            "> 1\n",
            "(-1.0, -1.0)\n"
          ],
          "name": "stdout"
        }
      ]
    }
  ]
}