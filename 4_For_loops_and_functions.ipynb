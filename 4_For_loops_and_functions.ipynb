{
  "nbformat": 4,
  "nbformat_minor": 0,
  "metadata": {
    "colab": {
      "name": "4 For loops and functions.ipynb",
      "provenance": [],
      "collapsed_sections": [],
      "include_colab_link": true
    },
    "kernelspec": {
      "display_name": "Python 3",
      "name": "python3"
    }
  },
  "cells": [
    {
      "cell_type": "markdown",
      "metadata": {
        "id": "view-in-github",
        "colab_type": "text"
      },
      "source": [
        "<a href=\"https://colab.research.google.com/github/teclarke/tutorials/blob/master/4_For_loops_and_functions.ipynb\" target=\"_parent\"><img src=\"https://colab.research.google.com/assets/colab-badge.svg\" alt=\"Open In Colab\"/></a>"
      ]
    },
    {
      "cell_type": "markdown",
      "metadata": {
        "id": "eP-gV6rFHFQC",
        "colab_type": "text"
      },
      "source": [
        "# Lists\n",
        "Students should be able to :\n",
        "\n",
        "1. Write valid tests on variables\n",
        "2. Use IF and WHILE statements\n",
        "3. Create a basic login system\n",
        "\n",
        "## Review question\n",
        "\n",
        "* Ask the user for 5 positive numbers. \n",
        "* Output the mean and the largest number given.\n",
        "\n",
        "### Do not proceed without showing me this code!"
      ]
    },
    {
      "cell_type": "code",
      "metadata": {
        "id": "4FYP0h-mqCOs",
        "colab_type": "code",
        "outputId": "794d47d0-4fc8-4a1f-f202-8c52aef4cf63",
        "colab": {
          "base_uri": "https://localhost:8080/",
          "height": 136
        }
      },
      "source": [
        "## Review question\n",
        "numbers = []\n",
        "while len(numbers) < 5:\n",
        "  try: \n",
        "    number = int(input(\"Please enter a positive integer. >\"))\n",
        "  except ValueError:\n",
        "    print(\"Invalid number.\")\n",
        "  if number > 0:\n",
        "    numbers.append(number)\n",
        "  else:\n",
        "    print(\"Invalid number.\")\n",
        "\n",
        "largest = max(numbers)\n",
        "mean = sum(numbers) / len(numbers)\n",
        "print(f\"Mean average was {mean}.\")\n",
        "print(f\"Largest number was {largest}.\")"
      ],
      "execution_count": 0,
      "outputs": [
        {
          "output_type": "stream",
          "text": [
            "Please enter a positive integer. >1\n",
            "Please enter a positive integer. >2\n",
            "Please enter a positive integer. >3\n",
            "Please enter a positive integer. >4\n",
            "Please enter a positive integer. >5\n",
            "Mean average was 3.0.\n",
            "Largest number was 5.\n"
          ],
          "name": "stdout"
        }
      ]
    },
    {
      "cell_type": "markdown",
      "metadata": {
        "id": "EZH9R3QXgQFx",
        "colab_type": "text"
      },
      "source": [
        "## Introduction\n",
        "In many cases in Python, in coding in general, we will want to collect items together rather than having hundreds of variables. We have already come across such a collection in fact - strings.\n",
        "\n",
        "Strings are collections of letters. Lists are collections of anything. Consider the following code :"
      ]
    },
    {
      "cell_type": "code",
      "metadata": {
        "id": "f61KyrYZgZsz",
        "colab_type": "code",
        "outputId": "0543af24-2537-4b5b-e842-4d5fb4ecf224",
        "colab": {
          "base_uri": "https://localhost:8080/",
          "height": 51
        }
      },
      "source": [
        "name = \"Billy Bragg\"\n",
        "print(\"The first letter of this name is\", name[0])\n",
        "print(\"The last letter of this name is\", name[-1])"
      ],
      "execution_count": 0,
      "outputs": [
        {
          "output_type": "stream",
          "text": [
            "The first letter of this name is B\n",
            "The last letter of this name is g\n"
          ],
          "name": "stdout"
        }
      ]
    },
    {
      "cell_type": "markdown",
      "metadata": {
        "id": "FmxncZwcqelp",
        "colab_type": "text"
      },
      "source": [
        "This is because of the square brackets. In Python these are used for creation of list and for indexing collections - lists and strings. \n",
        "\n",
        "As to the number, consider the elements in a collection to be arranged in a circle. We always start at the first item. So we need to take zero steps to get there. To get the next item we need to take one step so use an index of 1. To get the last item, this is one step backwards from 0. So use the index negative 1 (-1)."
      ]
    },
    {
      "cell_type": "markdown",
      "metadata": {
        "id": "ESpnPKBrqmgJ",
        "colab_type": "text"
      },
      "source": [
        "### Exercises\n",
        "\n",
        "What is the first index of 'a' in animal? ```# 0```\n",
        "\n",
        "What is the first index of 'c' in cheddar? ```# 0 ```\n",
        "\n",
        "What is the first index of 'p' in inspiration? ```# 3 ```\n",
        "\n",
        "What is the first index of 'y' in bicycle? ```# 3 ```\n",
        "\n",
        "What is the first index of 'o' in stove? ```# 2 ```\n",
        "\n",
        "What is the first index of 'a' in hair? ``` # 1 ```\n",
        "\n",
        "\n"
      ]
    },
    {
      "cell_type": "markdown",
      "metadata": {
        "id": "pBTfBWfuQHTT",
        "colab_type": "text"
      },
      "source": [
        "## Creating and using Lists\n",
        "Lists can be declared empty or with items :\n",
        "```\n",
        "empty_list = []\n",
        "list_with_things = [1, 'apple', False]\n",
        "```\n",
        "The functions len and sum will give us the length and sum (if possible!) of lists. For example:\n",
        "```\n",
        "values = [5, 8, 12]\n",
        "print(\"There are\", len(values), \"in this list\")\n",
        "print(\"It has a total of\", sum(values))\n",
        "```\n",
        "To add items to the end of a list we use the append method. For example:\n",
        "```\n",
        "names = [\"vera\", \"margaret\", \"alfred\"]\n",
        "\n",
        "new_name = input(\"what is your name?\")\n",
        "names.append(new_name)\n",
        "\n",
        "print(names)\n",
        "```\n",
        "Finally it's possible to iterate over a list using a FOR loop. We will cover these in more detail in the next set of exercises.\n",
        "```\n",
        "shopping_list = ['apples', 'walnuts', 'flour', \n",
        "'ginger', 'cauliflower', 'chillies', \n",
        "'potatoes', 'butter', 'coriander']\n",
        "\n",
        "for element in shopping_list:\n",
        "    print(element)\n",
        "```"
      ]
    },
    {
      "cell_type": "markdown",
      "metadata": {
        "id": "4vrUgRyZQ3yk",
        "colab_type": "text"
      },
      "source": [
        "## Exercises\n",
        "### Matching elements in a list\n",
        "Consider the following codes\n",
        "```\n",
        "codes = ['2YwebP', '2XAsej', '2HDUTD', '2sHGUP', '2feVya', '1DIkPi', '0IlkcN', '0mNaRI', '0DVwJr', '1ktQwu']\n",
        "```\n",
        "1. Output all codes beginning with a 0 only.\n",
        "2. Count how many codes begin with 0, 1 or 2.\n"
      ]
    },
    {
      "cell_type": "code",
      "metadata": {
        "id": "wDt2-ExaRBNS",
        "colab_type": "code",
        "outputId": "8994f117-f014-482d-8624-0f0f384ce6c8",
        "colab": {
          "base_uri": "https://localhost:8080/",
          "height": 51
        }
      },
      "source": [
        "codes = ['2YwebP', '2XAsej', '2HDUTD', '2sHGUP', '2feVya', '1DIkPi', \n",
        "         '0IlkcN', '0mNaRI', '0DVwJr', '1ktQwu']\n",
        "count = 0\n",
        "# 1. Output all codes beginning with a 0 only. \n",
        "for code in codes:\n",
        "  if code[0] == \"0\":\n",
        "    print(code, end=\", \")\n",
        "print(\"began with 0.\")\n",
        "\n",
        "# 2. Count how many codes begin with 0, 1 or 2.\n",
        "for code in codes:\n",
        "  if code[0] == \"0\" or code[0] == \"1\" or code[0] == \"2\":\n",
        "    count += 1\n",
        "print(f\"{count} codes began with 1, 2 or 3.\")\n"
      ],
      "execution_count": 0,
      "outputs": [
        {
          "output_type": "stream",
          "text": [
            "0IlkcN, 0mNaRI, 0DVwJr, began with 0.\n",
            "10 codes began with 1, 2 or 3.\n"
          ],
          "name": "stdout"
        }
      ]
    },
    {
      "cell_type": "markdown",
      "metadata": {
        "id": "XCD8GqeATBAO",
        "colab_type": "text"
      },
      "source": [
        "### Word input\n",
        "A user inputs words until they type stop. Tell the user how many words they have entered and which word is longest and which word is shortest.\n",
        "\n",
        "For example :\n",
        "\n",
        "input:\n",
        "```\n",
        "Please enter a word >> Cheese\n",
        "Please enter a word >> marshmellow\n",
        "Please enter a word >> table\n",
        "Please enter a word >> hair\n",
        "Please enter a word >> stop\n",
        "```\n",
        "output :\n",
        "```\n",
        "You have entered 4 words. The longest word is marshmellow. The shortest word is hair.\n",
        "```"
      ]
    },
    {
      "cell_type": "code",
      "metadata": {
        "id": "CWeeU9-3kilH",
        "colab_type": "code",
        "outputId": "60e1d985-bf45-403d-a708-d12c6a27d8bf",
        "colab": {
          "base_uri": "https://localhost:8080/",
          "height": 119
        }
      },
      "source": [
        "words = []\n",
        "word = input(\"Please enter a word or type 'stop' to stop. >\")\n",
        "largest = ''\n",
        "smallest = ''\n",
        "while word != \"stop\":\n",
        "  words.append(word)\n",
        "  if len(word) > len(largest):\n",
        "    largest = word\n",
        "  elif len(word) < len(smallest) or smallest == '':\n",
        "    smallest = word\n",
        "  word = input(\"Please enter a word or type 'stop' to stop. >\")\n",
        "\n",
        "print(f\"You have entered {len(words)} words. The longest word is {largest}. The shortest word is {smallest}.\")"
      ],
      "execution_count": 0,
      "outputs": [
        {
          "output_type": "stream",
          "text": [
            "Please enter a word or type 'stop' to stop. >Cheese\n",
            "Please enter a word or type 'stop' to stop. >marshmellow\n",
            "Please enter a word or type 'stop' to stop. >table\n",
            "Please enter a word or type 'stop' to stop. >hair\n",
            "Please enter a word or type 'stop' to stop. >stop\n",
            "You have entered 4 words. The longest word is marshmellow. The shortest word is hair.\n"
          ],
          "name": "stdout"
        }
      ]
    },
    {
      "cell_type": "markdown",
      "metadata": {
        "id": "15MqVu8Ko_-w",
        "colab_type": "text"
      },
      "source": [
        "### Sum of positive AND sum of negative numbers in a list\n",
        "```\n",
        "digits = [-6, -10, 7, -9, 9, -8, -7, 1, 5, 2, -4, 5, -3, 3, -1, 5, -2, 7, -10, -1]\n",
        "```\n",
        "* For the list of numbers, calculate the sum of the positive numbers and the sum of the negative.\n"
      ]
    },
    {
      "cell_type": "code",
      "metadata": {
        "id": "BIZNbf_Mp1Xe",
        "colab_type": "code",
        "outputId": "69821c96-5a90-4928-d391-bc76365e57e3",
        "colab": {
          "base_uri": "https://localhost:8080/",
          "height": 51
        }
      },
      "source": [
        "digits = [-6, -10, 7, -9, 9, -8, -7, 1, 5, 2, -4, 5, -3, 3, -1, 5, -2, 7, -10, -1]\n",
        "positive_sum = 0\n",
        "negative_sum = 0\n",
        "for digit in digits:\n",
        "  if digit > 0:\n",
        "    positive_sum += digit\n",
        "  elif digit < 0:\n",
        "    negative_sum += digit\n",
        "print(f\"The sum of the negative numbers is {negative_sum}.\")\n",
        "print(f\"The sum of the positive numbers is {positive_sum}.\")"
      ],
      "execution_count": 0,
      "outputs": [
        {
          "output_type": "stream",
          "text": [
            "The sum of the negative numbers is -61.\n",
            "The sum of the positive numbers is 44.\n"
          ],
          "name": "stdout"
        }
      ]
    },
    {
      "cell_type": "markdown",
      "metadata": {
        "id": "Y9kxylhlpNbS",
        "colab_type": "text"
      },
      "source": [
        "### Count Frequency of colours\n",
        "* Count how often each colour appears in the following list\n",
        "```\n",
        "colours = ['red', 'violet', 'red', 'green', 'blue', 'red', 'violet', 'red', 'blue', 'violet', 'green', 'blue', 'red', 'blue', 'yellow', 'blue', 'blue', 'blue', 'red', 'yellow']\n",
        "```"
      ]
    },
    {
      "cell_type": "code",
      "metadata": {
        "id": "cyU1OW_Pq9od",
        "colab_type": "code",
        "outputId": "013227e1-2158-47fa-963f-b8ff4442b8af",
        "colab": {
          "base_uri": "https://localhost:8080/",
          "height": 102
        }
      },
      "source": [
        "colours = ['red', 'violet', 'red', 'green', 'blue', 'red', 'violet', 'red', 'blue', 'violet', 'green', 'blue', 'red', 'blue', 'yellow', 'blue', 'blue', 'blue', 'red', 'yellow']\n",
        "counted = []\n",
        "for colour in colours:\n",
        "  if colour not in counted:\n",
        "    print(f\"{colour.title()} appears {colours.count(colour)} times.\")\n",
        "    counted.append(colour)"
      ],
      "execution_count": 0,
      "outputs": [
        {
          "output_type": "stream",
          "text": [
            "Red appears 6 times.\n",
            "Violet appears 3 times.\n",
            "Green appears 2 times.\n",
            "Blue appears 7 times.\n",
            "Yellow appears 2 times.\n"
          ],
          "name": "stdout"
        }
      ]
    }
  ]
}