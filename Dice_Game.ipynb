{
  "nbformat": 4,
  "nbformat_minor": 0,
  "metadata": {
    "colab": {
      "name": "Dice Game.ipynb",
      "provenance": [],
      "collapsed_sections": [],
      "toc_visible": true,
      "include_colab_link": true
    },
    "kernelspec": {
      "display_name": "Python 3",
      "name": "python3"
    }
  },
  "cells": [
    {
      "cell_type": "markdown",
      "metadata": {
        "id": "view-in-github",
        "colab_type": "text"
      },
      "source": [
        "<a href=\"https://colab.research.google.com/github/teclarke/tutorials/blob/master/Dice_Game.ipynb\" target=\"_parent\"><img src=\"https://colab.research.google.com/assets/colab-badge.svg\" alt=\"Open In Colab\"/></a>"
      ]
    },
    {
      "cell_type": "markdown",
      "metadata": {
        "id": "zIok9Lym5Mhg",
        "colab_type": "text"
      },
      "source": [
        "# **Computer Science GCSE** (NEA) - Two-player dice game\n",
        "---"
      ]
    },
    {
      "cell_type": "markdown",
      "metadata": {
        "id": "pkwjQUuhbJfF",
        "colab_type": "text"
      },
      "source": [
        "\n",
        "###**1. Analysis & Design**\n"
      ]
    },
    {
      "cell_type": "markdown",
      "metadata": {
        "id": "ygiADv-tbMQk",
        "colab_type": "text"
      },
      "source": [
        "#### Decomposition of the task\n",
        "The task requires the following functions:\n",
        "- A ```login(...)``` function\n",
        "  * A text file storing authorised player details.\n",
        "  * Allows authorised players to continue.\n",
        "  * Flowchart:\n",
        "  ![login_flow](https://drive.google.com/uc?export=view&id=1Se4rdUf4pamlwMW5ejRfZXmIiX5soTiG)\n",
        "  \n",
        "- A six-sided ```dice(...)``` function\n",
        "  * A function that returns a random number between 1 and 6.\n",
        "- A ```score(...)``` function \n",
        "  * Each player has a separate score.\n",
        "  * The score is the total number of points for both dice rolls.\n",
        "  * This function ammends each player's score as necessary according to these rules:\n",
        "    - Add number rolled to score.\n",
        "    - If even, add 10 points.\n",
        "    - If odd, subtract 5 points.\n",
        "    - If both rolls equal, roll extra dice.\n",
        "    - Score always >= 0\n",
        "    - The highest score after 5 rounds (of 2 rolls each) wins.\n",
        "    - A tie results in a tiebreak of 1 roll; highest score then wins. \n",
        "- A ```gameplay(...)``` function\n",
        "  * Coordinates dice-rolling and scoring.\n",
        "Gameplay, dice & scoring flowchart:\n",
        "  ![gameplay_flow](https://drive.google.com/uc?export=view&id=1F8gHlSPt47VwZWzV303W-8LI5-n5ws3_)\n",
        "\n",
        "- A ```save_results(...)``` function\n",
        "  * There will be a ```results.txt``` file.\n",
        "    - Contains all previous scores on the game.\n",
        "  * At the end of each game:\n",
        "    - Scores from the most recent game are stored in the format ```player_name, score```.\n",
        "    - The highest five scores on the file are then displayed.\n",
        "  * Saving results flowchart:\n",
        "  ![save_results_flow](https://drive.google.com/uc?export=view&id=1aBTsRqHilgE3J2dG1z5goxgKuDEv10o-)\n"
      ]
    },
    {
      "cell_type": "markdown",
      "metadata": {
        "id": "B5oNqGJwbRCi",
        "colab_type": "text"
      },
      "source": [
        "#### Flowchart of task\n",
        "![flowchart_implementation](https://drive.google.com/uc?export=view&id=1VeInYwuZLzCuLYxpTkXqcATA73whwTJJ)\n"
      ]
    },
    {
      "cell_type": "markdown",
      "metadata": {
        "id": "JA7ykdNObY8N",
        "colab_type": "text"
      },
      "source": [
        "#### Use of hardware and software\n",
        "- This project will be executed using Python 3\n",
        "- This is appropriate for the task because....\n",
        "- Why cannot be done on paper? Why not computer?\n"
      ]
    },
    {
      "cell_type": "markdown",
      "metadata": {
        "id": "h-ucXuZobaz1",
        "colab_type": "text"
      },
      "source": [
        "#### Plan for implementation\n",
        "- Which features to be created first\n",
        "- \n"
      ]
    },
    {
      "cell_type": "markdown",
      "metadata": {
        "id": "9HI6u8gXbunq",
        "colab_type": "text"
      },
      "source": [
        "#### Testing\n"
      ]
    },
    {
      "cell_type": "markdown",
      "metadata": {
        "id": "YWmKR0Ydbx1R",
        "colab_type": "text"
      },
      "source": [
        "#### Abstraction\n"
      ]
    },
    {
      "cell_type": "markdown",
      "metadata": {
        "id": "izi1MwDybz_n",
        "colab_type": "text"
      },
      "source": [
        "#### Additional data\n",
        "---\n"
      ]
    },
    {
      "cell_type": "markdown",
      "metadata": {
        "id": "6tJs1oP_bfq6",
        "colab_type": "text"
      },
      "source": [
        "\n",
        "### 2.Implementation\n",
        "```CODE```\n",
        "---- \n"
      ]
    }
  ]
}