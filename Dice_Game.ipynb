{
  "nbformat": 4,
  "nbformat_minor": 0,
  "metadata": {
    "colab": {
      "name": "Dice Game.ipynb",
      "provenance": [],
      "collapsed_sections": [],
      "include_colab_link": true
    },
    "kernelspec": {
      "display_name": "Python 3",
      "name": "python3"
    }
  },
  "cells": [
    {
      "cell_type": "markdown",
      "metadata": {
        "id": "view-in-github",
        "colab_type": "text"
      },
      "source": [
        "<a href=\"https://colab.research.google.com/github/teclarke/tutorials/blob/master/Dice_Game.ipynb\" target=\"_parent\"><img src=\"https://colab.research.google.com/assets/colab-badge.svg\" alt=\"Open In Colab\"/></a>"
      ]
    },
    {
      "cell_type": "markdown",
      "metadata": {
        "id": "zIok9Lym5Mhg",
        "colab_type": "text"
      },
      "source": [
        "# Computer Science GCSE (NEA)\n",
        "## Two-player dice game\n",
        "\n",
        "### Analysis & Design\n",
        "#### The task requires:\n",
        "- A login function\n",
        "  * A text file storing authorised player details.\n",
        "  * Allows authorised players to continue.\n",
        "- A six-sided dice\n",
        "  * A function that returns a random number between 1 and 6.\n",
        "- Scoring \n",
        "  * Each separate player has a separate score.\n",
        "  * The score is the total number of points for both dice rolls.\n",
        "  * The scoring rules are summarised as\n",
        "    - Add number rolled to score.\n",
        "    - If even, add 10 points.\n",
        "    - If odd, subtract 5 points.\n",
        "    - If both rolls equal, roll extra dice.\n",
        "    - Score always >= 0\n",
        "    - The highest score after 5 rounds (of 2 rolls each) wins.\n",
        "    - A tie results in a tiebreak of 1 roll; highest score then wins. \n",
        "- Saving results\n",
        "  * There will be a results text file.\n",
        "  * Scores will be stored as \"name, score\".\n",
        "  * At the end of each game, the highest 5 scores are displayed.\n",
        "\n",
        "#### Implementation\n",
        "\n",
        "\n",
        "●\tDiscuss the hardware and software you will be using.\n",
        "●\tOutline your plan for implementation (which features are to be created first).\n",
        "●\tInclude flow diagrams here for key parts of the program.\n",
        "●\tHow will you test if each part of the program works?\n",
        "●\tHow are you using abstraction (which details are not needed to make this program work?)\n",
        "●\tDo you need any additional data to make this work?\n",
        "\n"
      ]
    }
  ]
}