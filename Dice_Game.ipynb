{
  "nbformat": 4,
  "nbformat_minor": 0,
  "metadata": {
    "colab": {
      "name": "Dice Game.ipynb",
      "provenance": [],
      "collapsed_sections": [],
      "include_colab_link": true
    },
    "kernelspec": {
      "display_name": "Python 3",
      "name": "python3"
    }
  },
  "cells": [
    {
      "cell_type": "markdown",
      "metadata": {
        "id": "view-in-github",
        "colab_type": "text"
      },
      "source": [
        "<a href=\"https://colab.research.google.com/github/teclarke/tutorials/blob/master/Dice_Game.ipynb\" target=\"_parent\"><img src=\"https://colab.research.google.com/assets/colab-badge.svg\" alt=\"Open In Colab\"/></a>"
      ]
    },
    {
      "cell_type": "markdown",
      "metadata": {
        "id": "hyfcbFd0ZdDc",
        "colab_type": "text"
      },
      "source": [
        "# Ask for parcels\n",
        "\n",
        "1. Ask the user for parcels.\n",
        "* For each parcel ask for the following information > length, width, height weight.\n",
        "* Continue to ask until the user wishes to stop.\n",
        "* Reject parcels with any dimension greater than a metre.\n",
        "* Reject weights > 100kg."
      ]
    },
    {
      "cell_type": "code",
      "metadata": {
        "id": "YxFe_vkuuH3P",
        "colab_type": "code",
        "outputId": "f1d41a50-adfb-49b1-f780-e6d58f353247",
        "colab": {
          "base_uri": "https://localhost:8080/",
          "height": 425
        }
      },
      "source": [
        "parcels = []\n",
        "\n",
        "def new_parcel(parcels):\n",
        "  valid = False\n",
        "  while not valid:\n",
        "    length = float(input(\"Enter the length of the parcel in cm. Max 1m.>\"))\n",
        "    height = float(input(\"Enter the height of the parcel in cm. Max 1m.>\"))\n",
        "    width = float(input(\"Enter the width of the parcel in cm. Max 1m.>\"))\n",
        "    weight = float(input(\"Enter the weight of the parcel in kg. Max 100kg.>\"))\n",
        "    tests = [0 < length <= 100, 0 < width <= 100, 0 < height <= 100, 0 < weight <= 100]\n",
        "    if all(tests):\n",
        "      print(\"Parcel added.\")\n",
        "      valid = True\n",
        "    elif any(tests):\n",
        "      print(\"Some values incorrect. Try again.\")\n",
        "    else:\n",
        "      print(\"All values incorrect. Try again.\")\n",
        "  parcel = [length, width, height, weight] \n",
        "  parcels.append(parcel)\n",
        "  return parcels\n",
        "\n",
        "def ask_parcels(parcels):\n",
        "  new=''\n",
        "  while new != \"stop\":\n",
        "    new = input(f\"Press enter to add parcels or type 'stop' to stop. >>\").lower()\n",
        "    if new != \"stop\":\n",
        "      parcels = new_parcel(parcels)\n",
        "  return parcels\n",
        "\n",
        "parcels = ask_parcels(parcels)"
      ],
      "execution_count": 0,
      "outputs": [
        {
          "output_type": "stream",
          "text": [
            "Press enter to add parcels or type 'stop' to stop. >>\n",
            "Enter the length of the parcel in cm. Max 1m.>10\n",
            "Enter the height of the parcel in cm. Max 1m.>20\n",
            "Enter the width of the parcel in cm. Max 1m.>30\n",
            "Enter the weight of the parcel in kg. Max 100kg.>40\n",
            "Parcel added.\n",
            "Press enter to add parcels or type 'stop' to stop. >>\n",
            "Enter the length of the parcel in cm. Max 1m.>50\n",
            "Enter the height of the parcel in cm. Max 1m.>60\n",
            "Enter the width of the parcel in cm. Max 1m.>70\n",
            "Enter the weight of the parcel in kg. Max 100kg.>80\n",
            "Parcel added.\n",
            "Press enter to add parcels or type 'stop' to stop. >>\n",
            "Enter the length of the parcel in cm. Max 1m.>90\n",
            "Enter the height of the parcel in cm. Max 1m.>100\n",
            "Enter the width of the parcel in cm. Max 1m.>110\n",
            "Enter the weight of the parcel in kg. Max 100kg.>120\n",
            "Some values incorrect. Try again.\n",
            "Enter the length of the parcel in cm. Max 1m.>90\n",
            "Enter the height of the parcel in cm. Max 1m.>100\n",
            "Enter the width of the parcel in cm. Max 1m.>90\n",
            "Enter the weight of the parcel in kg. Max 100kg.>80\n",
            "Parcel added.\n",
            "Press enter to add parcels or type 'stop' to stop. >>stop\n"
          ],
          "name": "stdout"
        }
      ]
    },
    {
      "cell_type": "markdown",
      "metadata": {
        "id": "aYy8TKZ80EyW",
        "colab_type": "text"
      },
      "source": [
        "2. After the collection of parcel information, classify according to the following.\n",
        "\n",
        "* small - dimensionss < 10cm\n",
        "* medium - one dimension up to 50cm, all others < 20cm.\n",
        "* large - all dimensions < 50cm\n",
        "\n",
        "* light - weight < 1kg\n",
        "* normal - 1kg < weight < 50kg\n",
        "* heavy - weight > 50kg "
      ]
    },
    {
      "cell_type": "code",
      "metadata": {
        "id": "dQoNeyI40-qk",
        "colab_type": "code",
        "outputId": "2cf59828-eb69-4015-db57-62b725d0ad35",
        "colab": {
          "base_uri": "https://localhost:8080/",
          "height": 129
        }
      },
      "source": [
        "def classify_parcels(parcels):\n",
        "  for parcel in parcels:\n",
        "    print(f\"PARCEL {parcels.index(parcel) + 1}: {parcel[0]}cm x {parcel[1]}cm x {parcel[2]}cm. {parcel[3]}kg.\")\n",
        "    tests = {\n",
        "        'small': parcel[x for parcel[x] in range(3)] < 10:\n",
        "    }\n",
        "classify_parcels(parcels)"
      ],
      "execution_count": 0,
      "outputs": [
        {
          "output_type": "error",
          "ename": "SyntaxError",
          "evalue": "ignored",
          "traceback": [
            "\u001b[0;36m  File \u001b[0;32m\"<ipython-input-23-47046db2dc4c>\"\u001b[0;36m, line \u001b[0;32m5\u001b[0m\n\u001b[0;31m    'small': parcel[x for parcel[x] in range(3)] < 10:\u001b[0m\n\u001b[0m                        ^\u001b[0m\n\u001b[0;31mSyntaxError\u001b[0m\u001b[0;31m:\u001b[0m invalid syntax\n"
          ]
        }
      ]
    }
  ]
}