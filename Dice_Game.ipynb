{
  "nbformat": 4,
  "nbformat_minor": 0,
  "metadata": {
    "colab": {
      "name": "Dice Game.ipynb",
      "provenance": [],
      "collapsed_sections": [],
      "toc_visible": true,
      "include_colab_link": true
    },
    "kernelspec": {
      "display_name": "Python 3",
      "name": "python3"
    }
  },
  "cells": [
    {
      "cell_type": "markdown",
      "metadata": {
        "id": "view-in-github",
        "colab_type": "text"
      },
      "source": [
        "<a href=\"https://colab.research.google.com/github/teclarke/tutorials/blob/master/Dice_Game.ipynb\" target=\"_parent\"><img src=\"https://colab.research.google.com/assets/colab-badge.svg\" alt=\"Open In Colab\"/></a>"
      ]
    },
    {
      "cell_type": "markdown",
      "metadata": {
        "id": "zIok9Lym5Mhg",
        "colab_type": "text"
      },
      "source": [
        "# Title\n",
        "---"
      ]
    },
    {
      "cell_type": "markdown",
      "metadata": {
        "id": "RRoE4UETScyF",
        "colab_type": "text"
      },
      "source": [
        "### **1 Introduction**"
      ]
    },
    {
      "cell_type": "markdown",
      "metadata": {
        "id": "pkwjQUuhbJfF",
        "colab_type": "text"
      },
      "source": [
        "\n",
        "###**2 Analysis & Design**\n"
      ]
    },
    {
      "cell_type": "markdown",
      "metadata": {
        "id": "ygiADv-tbMQk",
        "colab_type": "text"
      },
      "source": [
        "#### 2A Decomposition of the task\n",
        "The task requires the following functions:\n",
        "\n",
        "- An ```ask_for_user(...)``` function\n",
        "  * Asks the user to input a username\n",
        "\n",
        "- An ```authorise_user(...)``` function\n",
        "  * There will be a csv file storing authorised player details.\n",
        "  * Allows authorised players (from the file) to continue.\n",
        "  * Flowchart:\n",
        "  \n",
        "  <img src=\"https://drive.google.com/uc?export=view&id=1Se4rdUf4pamlwMW5ejRfZXmIiX5soTiG\" width=\"500\" alt=\"login-flow\">\n",
        "\n",
        "- A six-sided ```dice(...)``` function\n",
        "  * A function that returns a random number between 1 and 6.\n",
        "- A ```calculate_score(...)``` function \n",
        "  * Each player has a separate score.\n",
        "  * The score is the total number of points for both dice rolls.\n",
        "  * This function ammends each player's score as necessary according to these rules:\n",
        "    - Add number rolled to score.\n",
        "    - If even, add 10 points.\n",
        "    - If odd, subtract 5 points.\n",
        "    - If both rolls equal, roll extra dice.\n",
        "    - Score always >= 0\n",
        "    - The highest score after 5 rounds (of 2 rolls each) wins.\n",
        "    - A tie results in a tiebreak of 1 roll; highest score then wins. \n",
        "- A ```gameplay(...)``` function\n",
        "  * Coordinates dice-rolling and scoring.\n",
        "Gameplay, dice & scoring flowchart:\n",
        "  \n",
        "  <img src=\"https://drive.google.com/uc?export=view&id=1F8gHlSPt47VwZWzV303W-8LI5-n5ws3_\" width=\"500\"\n",
        "  alt=\"gameplay-flow\">\n",
        "- A ```save_results(...)``` function\n",
        "  * There will be a ```results.txt``` file.\n",
        "    - Contains all previous scores on the game.\n",
        "  * At the end of each game:\n",
        "    - The winning score from the last game is stored in the format ```player_name, score```.\n",
        "    - The highest five scores on the file are then displayed.\n",
        "  * Saving results flowchart:\n",
        "  \n",
        "  <img src=\"https://drive.google.com/uc?export=view&id=1aBTsRqHilgE3J2dG1z5goxgKuDEv10o-\" width=\"500\" alt=\"save-results-flow\">"
      ]
    },
    {
      "cell_type": "markdown",
      "metadata": {
        "id": "B5oNqGJwbRCi",
        "colab_type": "text"
      },
      "source": [
        "#### 2B Flowchart of full task\n",
        "<img src=\"https://drive.google.com/uc?export=view&id=1VeInYwuZLzCuLYxpTkXqcATA73whwTJJ\" width=\"750\" alt=\"flowchart_implementation\">\n"
      ]
    },
    {
      "cell_type": "markdown",
      "metadata": {
        "id": "JA7ykdNObY8N",
        "colab_type": "text"
      },
      "source": [
        "#### <font color=\"red\"> 2C Use of hardware and software </font>\n",
        "\n",
        "\n",
        "- This project will be executed using Python 3.\n",
        "- This is appropriate for the task because although this game could be played on paper or on a board, this would suboptimal for player enjoyment because:\n",
        "  1. The scoring rules require use of mathematics, which would slow down the pace of the game if performed manually.\n",
        "  2. Scoreboards would not be able to be updated in real-time and would waste paper.\n",
        "  3. This digital version can be played wherever there is access to a computer, whereas the paper version has space restrictions and needs a dice, a board etc.\n"
      ]
    },
    {
      "cell_type": "markdown",
      "metadata": {
        "id": "h-ucXuZobaz1",
        "colab_type": "text"
      },
      "source": [
        "#### 2D Plan for implementation\n",
        "- I plan to start by creating the ```gameplay(...)``` function, as this is the primary function of the program. \n",
        "  * This requires the ```dice(...)``` function to be created first.\n",
        "  * The ```score(...)``` function is then needed to keep track of gameplay.\n",
        "- After the general gameplay is fully functioning, I plan to create the ```save_results(...)``` function.\n",
        "- Finally, with the rest of the program completed, I will implement the ```login(...)``` system to check if users are authorised to play."
      ]
    },
    {
      "cell_type": "markdown",
      "metadata": {
        "id": "9HI6u8gXbunq",
        "colab_type": "text"
      },
      "source": [
        "#### 2E Testing\n",
        "\n",
        "- The authorisation in the ```login(...)``` function will be tested using a pre-determined users database stored in a text file.\n",
        "  - A series of pairs of usernames will be entered, some of which are in the database and some of which aren't.\n",
        "  - The function should run an infinite loop until both usernames are in the database.\n",
        "\n",
        "- The ```dice(...)``` function will be tested to ensure that numbers between 1 and 6 are rolled.\n",
        "\n",
        "- The gameplay and scoring will be tested alongside a written version of the game to ensure the correct working order.\n",
        "  - The ```dice(...)``` function will be disabled for these tests in order to control the outcomes of the game.\n",
        "\n",
        "- The scoreboard will be the last to be tested, through gameplay to test functionaliy.\n"
      ]
    },
    {
      "cell_type": "markdown",
      "metadata": {
        "id": "YWmKR0Ydbx1R",
        "colab_type": "text"
      },
      "source": [
        "#### <font color=\"red\">2F Abstraction & Encapsulation</font>\n",
        "Throughout the program, functions are used to encapsulate individual subtasks.\n",
        "\n",
        "There are some details in the task description that are not necessary for the program to function:\n",
        "- There does not need to be a physical dice, just a function to generate a random number in the same way.\n",
        "- The game code does not need to be repeated 5 times for individual rounds, as loops can be used to achieve this."
      ]
    },
    {
      "cell_type": "markdown",
      "metadata": {
        "id": "izi1MwDybz_n",
        "colab_type": "text"
      },
      "source": [
        "#### 2G Additional data requirements\n",
        "To achieve completion of this task, there are the following requirements:\n",
        "- A database of users that are authorised.\n",
        "- A list of pre-played winning scores.\n",
        "\n",
        "---\n"
      ]
    },
    {
      "cell_type": "markdown",
      "metadata": {
        "id": "6tJs1oP_bfq6",
        "colab_type": "text"
      },
      "source": [
        "\n",
        "### **3 Implementation**\n"
      ]
    },
    {
      "cell_type": "markdown",
      "metadata": {
        "id": "nUMGnyqyTSjH",
        "colab_type": "text"
      },
      "source": [
        "#### 3A Full python code"
      ]
    },
    {
      "cell_type": "code",
      "metadata": {
        "id": "oTl7_oGWT3jk",
        "colab_type": "code",
        "outputId": "377322d4-e9c5-4be4-81f5-6b61c208b0d7",
        "colab": {
          "base_uri": "https://localhost:8080/",
          "height": 1000
        }
      },
      "source": [
        "def authorise_user(username):\n",
        "  \"\"\"\n",
        "  Checks if a user is authorised in a csv file. \n",
        "  Returns True if yes, False if no.\n",
        "  \"\"\"\n",
        "  \n",
        "  return True # for testing\n",
        "\n",
        "def ask_for_user(user_number):\n",
        "  \"\"\"\n",
        "  Asks the user to enter a username to play the game.\n",
        "  \"\"\"\n",
        "  print(f\"### Please enter an authorised username for user {user_number}. ###\")\n",
        "  user = input(\"Username: >\")\n",
        "  return user\n",
        "\n",
        "def dice(sides):\n",
        "  \"\"\"\n",
        "  Generates a random number between 1 and the number of sides provided.\n",
        "  \"\"\"\n",
        "  import random\n",
        "  print(\">> Dice rolling... <<\")\n",
        "  number = random.randint(1,sides)\n",
        "  return number\n",
        "\n",
        "# Testing dice() function\n",
        "# assert 1 <= dice(6) <= 6, \"Dice function produced a number out of range.\" \n",
        "\n",
        "def calculate_score(roll_number, roll_score, prev_roll=0, current_round_score=0):\n",
        "  \"\"\"\n",
        "  Calculates the total score for a particular round.\n",
        "  If this is the user's first dice roll, roll_number=1.\n",
        "  If roll_number=2, prev_roll contains the score of the previous roll.\n",
        "  The score, roll_score from the dice roll is added to the total.\n",
        "  Score is altered depending on scoring rules.\n",
        "  \"\"\"\n",
        "  # Add roll_score to user total\n",
        "  # current_round_score is used for double rolls\n",
        "  round_score = current_round_score + roll_score\n",
        "  print(f\"## You rolled a {roll_score}! ##\")\n",
        "  # Scoring rules\n",
        "  if roll_score % 2 == 0:\n",
        "    round_score += 10\n",
        "  else:\n",
        "    round_score -= 5\n",
        "  # Check for double roll on second round\n",
        "  if roll_number == 2 and roll_score == prev_roll:\n",
        "    print(\"## You rolled a double! Roll again. ##\")\n",
        "    roll_3 = calculate_score(3,dice(6), 0, round_score)\n",
        "  else:\n",
        "    return round_score\n",
        "\n",
        "# Testing calculate_score() function\n",
        "assert True\n",
        "\n",
        "def gameplay(user_1, user_2):\n",
        "  \"\"\"\n",
        "  Runs only once authorise_user() is True.\n",
        "  Co-ordinates scoring and dice-rolling.\n",
        "  Tracks user scores and number of rounds played.\n",
        "  \"\"\"\n",
        "  \"\"\"authorised_u1, authorised_u2 = (False,)*2\n",
        "  while not authorised_u1 and not authorised_u2:\n",
        "    # Checks if users 1 and 2 are authorised using authorise_user()\n",
        "    authorised_u1, authorised_u2 = authorise_user(user_1), authorise_user(user_2)\n",
        "    # Asks the user for another username if wrong.\n",
        "    if not authorised_u1:\n",
        "      print(\">> User 1 not authorised. <<\")\n",
        "      user_1 = ask_for_user(\"1\")\n",
        "    if not authorised_u2:\n",
        "      print(\">> User 2 not authorised. <<\")\n",
        "      user_2 = ask_for_user(\"2\")\n",
        "    \"\"\"\n",
        "  # Once all users are authorised, gameplay starts.\n",
        "  print(\"### Users\", user_1, \"and\", user_2, \"are playing. ###\")\n",
        "  users = [user_1,user_2]\n",
        "  # Repeats for the number of rounds required\n",
        "  number_of_rounds = 5\n",
        "  scores = [0,0]\n",
        "  for rounds in range(number_of_rounds):\n",
        "    print(\"/\\/\\/\\/\\/\\/\\/\\/\\/\\/\\/\\/\\/\\/\\/\\/\\/\\/\")\n",
        "    print(\"## Welcome to round\", str(rounds+1) +\"! ##\")\n",
        "    # Displays scores so far\n",
        "    print(\"The current scores are:\")\n",
        "    print(user_1, scores[0], \"-\", scores[1], user_2)\n",
        "    # Repeats gameplay process for each user\n",
        "    for i in range(2):\n",
        "      print(\"## It's\", users[i] + \"'s turn! ##\")\n",
        "      # Rolls dice and calculates score\n",
        "      for roll in range(2):\n",
        "        scores[i] += calculate_score(roll,dice(6))\n",
        "        if scores[i] < 0: scores[i] = 0\n",
        "# Testing gameplay() function\n",
        "assert True\n",
        "\n",
        "def save_results():\n",
        "  pass\n",
        "\n",
        "# Testing save_results()  function\n",
        "\n",
        "\n",
        "### Run code ###\n",
        "print(\"### Welcome to OCR Dice Game! ###\")\n",
        "#gameplay(ask_for_user(\"1\"), ask_for_user(\"2\"))\n",
        "gameplay(\"Tom\",\"Bob\")"
      ],
      "execution_count": 30,
      "outputs": [
        {
          "output_type": "stream",
          "text": [
            "### Welcome to OCR Dice Game! ###\n",
            "### Users Tom and Bob are playing. ###\n",
            "/\\/\\/\\/\\/\\/\\/\\/\\/\\/\\/\\/\\/\\/\\/\\/\\/\\/\n",
            "## Welcome to round 1! ##\n",
            "The current scores are:\n",
            "Tom 0 - 0 Bob\n",
            "## It's Tom's turn! ##\n",
            ">> Dice rolling... <<\n",
            "## You rolled a 5! ##\n",
            ">> Dice rolling... <<\n",
            "## You rolled a 1! ##\n",
            "## It's Bob's turn! ##\n",
            ">> Dice rolling... <<\n",
            "## You rolled a 5! ##\n",
            ">> Dice rolling... <<\n",
            "## You rolled a 6! ##\n",
            "/\\/\\/\\/\\/\\/\\/\\/\\/\\/\\/\\/\\/\\/\\/\\/\\/\\/\n",
            "## Welcome to round 2! ##\n",
            "The current scores are:\n",
            "Tom 0 - 16 Bob\n",
            "## It's Tom's turn! ##\n",
            ">> Dice rolling... <<\n",
            "## You rolled a 3! ##\n",
            ">> Dice rolling... <<\n",
            "## You rolled a 6! ##\n",
            "## It's Bob's turn! ##\n",
            ">> Dice rolling... <<\n",
            "## You rolled a 6! ##\n",
            ">> Dice rolling... <<\n",
            "## You rolled a 6! ##\n",
            "/\\/\\/\\/\\/\\/\\/\\/\\/\\/\\/\\/\\/\\/\\/\\/\\/\\/\n",
            "## Welcome to round 3! ##\n",
            "The current scores are:\n",
            "Tom 16 - 48 Bob\n",
            "## It's Tom's turn! ##\n",
            ">> Dice rolling... <<\n",
            "## You rolled a 3! ##\n",
            ">> Dice rolling... <<\n",
            "## You rolled a 4! ##\n",
            "## It's Bob's turn! ##\n",
            ">> Dice rolling... <<\n",
            "## You rolled a 1! ##\n",
            ">> Dice rolling... <<\n",
            "## You rolled a 2! ##\n",
            "/\\/\\/\\/\\/\\/\\/\\/\\/\\/\\/\\/\\/\\/\\/\\/\\/\\/\n",
            "## Welcome to round 4! ##\n",
            "The current scores are:\n",
            "Tom 28 - 56 Bob\n",
            "## It's Tom's turn! ##\n",
            ">> Dice rolling... <<\n",
            "## You rolled a 4! ##\n",
            ">> Dice rolling... <<\n",
            "## You rolled a 1! ##\n",
            "## It's Bob's turn! ##\n",
            ">> Dice rolling... <<\n",
            "## You rolled a 6! ##\n",
            ">> Dice rolling... <<\n",
            "## You rolled a 4! ##\n",
            "/\\/\\/\\/\\/\\/\\/\\/\\/\\/\\/\\/\\/\\/\\/\\/\\/\\/\n",
            "## Welcome to round 5! ##\n",
            "The current scores are:\n",
            "Tom 38 - 86 Bob\n",
            "## It's Tom's turn! ##\n",
            ">> Dice rolling... <<\n",
            "## You rolled a 1! ##\n",
            ">> Dice rolling... <<\n",
            "## You rolled a 2! ##\n",
            "## It's Bob's turn! ##\n",
            ">> Dice rolling... <<\n",
            "## You rolled a 5! ##\n",
            ">> Dice rolling... <<\n",
            "## You rolled a 5! ##\n"
          ],
          "name": "stdout"
        }
      ]
    },
    {
      "cell_type": "markdown",
      "metadata": {
        "id": "r4c-BExZTDmS",
        "colab_type": "text"
      },
      "source": [
        "#### 3B Login system"
      ]
    },
    {
      "cell_type": "markdown",
      "metadata": {
        "id": "cCwMIYKgTqhf",
        "colab_type": "text"
      },
      "source": [
        "#### 3C Dice function"
      ]
    },
    {
      "cell_type": "markdown",
      "metadata": {
        "id": "MbkNgGyITgGn",
        "colab_type": "text"
      },
      "source": [
        "#### 3D Gameplay function"
      ]
    },
    {
      "cell_type": "markdown",
      "metadata": {
        "id": "9zkBfCbETvYc",
        "colab_type": "text"
      },
      "source": [
        "#### 3E Scoring function"
      ]
    },
    {
      "cell_type": "markdown",
      "metadata": {
        "id": "StHvixBDV14e",
        "colab_type": "text"
      },
      "source": [
        "#### 3F Saving function"
      ]
    },
    {
      "cell_type": "markdown",
      "metadata": {
        "id": "7hQUEhpWc35w",
        "colab_type": "text"
      },
      "source": [
        "### **4 Evaluation**"
      ]
    },
    {
      "cell_type": "markdown",
      "metadata": {
        "id": "AkJVQ6sPc81t",
        "colab_type": "text"
      },
      "source": [
        "### **5 Conclusion**"
      ]
    }
  ]
}