{
  "nbformat": 4,
  "nbformat_minor": 0,
  "metadata": {
    "colab": {
      "name": "Dice Game.ipynb",
      "provenance": [],
      "collapsed_sections": [],
      "toc_visible": true,
      "include_colab_link": true
    },
    "kernelspec": {
      "display_name": "Python 3",
      "name": "python3"
    }
  },
  "cells": [
    {
      "cell_type": "markdown",
      "metadata": {
        "id": "view-in-github",
        "colab_type": "text"
      },
      "source": [
        "<a href=\"https://colab.research.google.com/github/teclarke/tutorials/blob/master/Dice_Game.ipynb\" target=\"_parent\"><img src=\"https://colab.research.google.com/assets/colab-badge.svg\" alt=\"Open In Colab\"/></a>"
      ]
    },
    {
      "cell_type": "markdown",
      "metadata": {
        "id": "zIok9Lym5Mhg",
        "colab_type": "text"
      },
      "source": [
        "# Title\n",
        "---"
      ]
    },
    {
      "cell_type": "markdown",
      "metadata": {
        "id": "pkwjQUuhbJfF",
        "colab_type": "text"
      },
      "source": [
        "\n",
        "###**1 Analysis & Design**\n"
      ]
    },
    {
      "cell_type": "markdown",
      "metadata": {
        "id": "ygiADv-tbMQk",
        "colab_type": "text"
      },
      "source": [
        "#### 1A Decomposition of the task\n",
        "The task requires the following functions:\n",
        "- A ```login(...)``` function\n",
        "  * A text file storing authorised player details.\n",
        "  * Allows authorised players to continue.\n",
        "  * Flowchart:\n",
        "  \n",
        "  <img src=\"https://drive.google.com/uc?export=view&id=1Se4rdUf4pamlwMW5ejRfZXmIiX5soTiG\" width=\"500\" alt=\"login-flow\">\n",
        "\n",
        "- A six-sided ```dice(...)``` function\n",
        "  * A function that returns a random number between 1 and 6.\n",
        "- A ```score(...)``` function \n",
        "  * Each player has a separate score.\n",
        "  * The score is the total number of points for both dice rolls.\n",
        "  * This function ammends each player's score as necessary according to these rules:\n",
        "    - Add number rolled to score.\n",
        "    - If even, add 10 points.\n",
        "    - If odd, subtract 5 points.\n",
        "    - If both rolls equal, roll extra dice.\n",
        "    - Score always >= 0\n",
        "    - The highest score after 5 rounds (of 2 rolls each) wins.\n",
        "    - A tie results in a tiebreak of 1 roll; highest score then wins. \n",
        "- A ```gameplay(...)``` function\n",
        "  * Coordinates dice-rolling and scoring.\n",
        "Gameplay, dice & scoring flowchart:\n",
        "  \n",
        "  <img src=\"https://drive.google.com/uc?export=view&id=1F8gHlSPt47VwZWzV303W-8LI5-n5ws3_\" width=\"500\"\n",
        "  alt=\"gameplay-flow\">\n",
        "- A ```save_results(...)``` function\n",
        "  * There will be a ```results.txt``` file.\n",
        "    - Contains all previous scores on the game.\n",
        "  * At the end of each game:\n",
        "    - The winning score from the last game is stored in the format ```player_name, score```.\n",
        "    - The highest five scores on the file are then displayed.\n",
        "  * Saving results flowchart:\n",
        "  \n",
        "  <img src=\"https://drive.google.com/uc?export=view&id=1aBTsRqHilgE3J2dG1z5goxgKuDEv10o-\" width=\"500\" alt=\"save-results-flow\">"
      ]
    },
    {
      "cell_type": "markdown",
      "metadata": {
        "id": "B5oNqGJwbRCi",
        "colab_type": "text"
      },
      "source": [
        "#### 1B Flowchart of full task\n",
        "<img src=\"https://drive.google.com/uc?export=view&id=1VeInYwuZLzCuLYxpTkXqcATA73whwTJJ\" width=\"750\" alt=\"flowchart_implementation\">\n"
      ]
    },
    {
      "cell_type": "markdown",
      "metadata": {
        "id": "JA7ykdNObY8N",
        "colab_type": "text"
      },
      "source": [
        "#### 1C Use of hardware and software\n",
        "\n",
        "<font color=\"red\">\n",
        "\n",
        "- This project will be executed using Python 3.\n",
        "- This is appropriate for the task because although this game could be played on paper or on a board, this would suboptimal for player enjoyment because:\n",
        "  1. The scoring rules require use of mathematics, which would slow down the pace of the game if performed manually.\n",
        "  2. Scoreboards would not be able to be updated in real-time and would waste paper.\n",
        "  3. This digital version can be played wherever there is access to a computer, whereas the paper version has space restrictions and needs a dice, a board etc.\n",
        "  </font>\n"
      ]
    },
    {
      "cell_type": "markdown",
      "metadata": {
        "id": "h-ucXuZobaz1",
        "colab_type": "text"
      },
      "source": [
        "#### 1D Plan for implementation\n",
        "- I plan to start by creating the ```gameplay(...)``` function, as this is the primary function of the program. \n",
        "  * This requires the ```dice(...)``` function to be created first.\n",
        "  * The ```score(...)``` function is then needed to keep track of gameplay.\n",
        "- After the general gameplay is fully functioning, I plan to create the ```save_results(...)``` function.\n",
        "- Finally, with the rest of the program completed, I will implement the ```login(...)``` system to check if users are authorised to play."
      ]
    },
    {
      "cell_type": "markdown",
      "metadata": {
        "id": "9HI6u8gXbunq",
        "colab_type": "text"
      },
      "source": [
        "#### 1E Testing\n",
        "\n",
        "- The authorisation in the ```login(...)``` function will be tested using a pre-determined users database stored in a text file.\n",
        "  - A series of pairs of usernames will be entered, some of which are in the database and some of which aren't.\n",
        "  - The function should run an infinite loop until both usernames are in the database.\n"
      ]
    },
    {
      "cell_type": "markdown",
      "metadata": {
        "id": "YWmKR0Ydbx1R",
        "colab_type": "text"
      },
      "source": [
        "#### 1F Abstraction\n"
      ]
    },
    {
      "cell_type": "markdown",
      "metadata": {
        "id": "izi1MwDybz_n",
        "colab_type": "text"
      },
      "source": [
        "#### 1G Additional data requirements\n",
        "\n",
        "\n",
        "---\n"
      ]
    },
    {
      "cell_type": "markdown",
      "metadata": {
        "id": "6tJs1oP_bfq6",
        "colab_type": "text"
      },
      "source": [
        "\n",
        "### 2 Implementation\n",
        "```CODE```\n",
        "---- \n"
      ]
    },
    {
      "cell_type": "markdown",
      "metadata": {
        "id": "7hQUEhpWc35w",
        "colab_type": "text"
      },
      "source": [
        "### 3 Evaluation"
      ]
    },
    {
      "cell_type": "markdown",
      "metadata": {
        "id": "AkJVQ6sPc81t",
        "colab_type": "text"
      },
      "source": [
        "### 4 Conclusion"
      ]
    }
  ]
}