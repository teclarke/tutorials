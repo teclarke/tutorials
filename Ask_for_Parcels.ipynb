{
  "nbformat": 4,
  "nbformat_minor": 0,
  "metadata": {
    "colab": {
      "name": "Ask for Parcels.ipynb",
      "provenance": [],
      "collapsed_sections": [],
      "include_colab_link": true
    },
    "kernelspec": {
      "display_name": "Python 3",
      "name": "python3"
    }
  },
  "cells": [
    {
      "cell_type": "markdown",
      "metadata": {
        "id": "view-in-github",
        "colab_type": "text"
      },
      "source": [
        "<a href=\"https://colab.research.google.com/github/teclarke/tutorials/blob/master/Ask_for_Parcels.ipynb\" target=\"_parent\"><img src=\"https://colab.research.google.com/assets/colab-badge.svg\" alt=\"Open In Colab\"/></a>"
      ]
    },
    {
      "cell_type": "markdown",
      "metadata": {
        "id": "hyfcbFd0ZdDc",
        "colab_type": "text"
      },
      "source": [
        "# Ask for parcels\n",
        "\n",
        "1. Ask the user for parcels.\n",
        "* For each parcel ask for the following information > length, width, height weight.\n",
        "* Continue to ask until the user wishes to stop.\n",
        "* Reject parcels with any dimension greater than a metre.\n",
        "* Reject weights > 100kg."
      ]
    },
    {
      "cell_type": "code",
      "metadata": {
        "id": "YxFe_vkuuH3P",
        "colab_type": "code",
        "colab": {
          "base_uri": "https://localhost:8080/",
          "height": 119
        },
        "outputId": "6f2daf63-672a-4840-dbba-be27fa76384d"
      },
      "source": [
        "parcels = []\n",
        "\n",
        "def new_parcel(parcels):\n",
        "  valid = False\n",
        "  while not valid:\n",
        "    length = float(input(\"Enter the length of the parcel in cm. Max 1m.>\"))\n",
        "    height = float(input(\"Enter the height of the parcel in cm. Max 1m.>\"))\n",
        "    width = float(input(\"Enter the width of the parcel in cm. Max 1m.>\"))\n",
        "    weight = float(input(\"Enter the weight of the parcel in kg. Max 10kg.>\"))\n",
        "    tests = [0 < length <= 100, 0 < width <= 100, 0 < height <= 100, 0 < weight <= 100]\n",
        "    if all(tests):\n",
        "      print(\"All values correct.\")\n",
        "      valid = True\n",
        "    elif any(tests):\n",
        "      print(\"Some values incorrect. Try again.\")\n",
        "    else:\n",
        "      print(\"All values incorrect. Try again.\")\n",
        "  parcel = [length, width, height, weight] \n",
        "  parcels.append(parcel)\n",
        "  return parcels\n",
        "\n",
        "def ask_parcels(parcels):\n",
        "  new = input(f\"Press enter to continue adding or type 'stop' to stop. >>\").lower()\n",
        "  while new != \"stop\":\n",
        "    new_parcel = new_parcel(parcels)\n",
        "    \n",
        "\n"
      ],
      "execution_count": 3,
      "outputs": [
        {
          "output_type": "stream",
          "text": [
            "Enter the length of the parcel in cm. Max 1m.>1\n",
            "Enter the height of the parcel in cm. Max 1m.>1\n",
            "Enter the width of the parcel in cm. Max 1m.>1\n",
            "Enter the weight of the parcel in kg. Max 10kg.>1\n",
            "All values correct.\n"
          ],
          "name": "stdout"
        },
        {
          "output_type": "execute_result",
          "data": {
            "text/plain": [
              "[[100.0, 100.0, 100.0, 10.0], [1.0, 1.0, 1.0, 1.0]]"
            ]
          },
          "metadata": {
            "tags": []
          },
          "execution_count": 3
        }
      ]
    }
  ]
}